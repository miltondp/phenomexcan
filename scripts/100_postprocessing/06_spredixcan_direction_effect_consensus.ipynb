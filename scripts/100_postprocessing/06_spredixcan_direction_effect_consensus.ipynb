{
 "cells": [
  {
   "cell_type": "code",
   "execution_count": 1,
   "metadata": {
    "papermill": {
     "duration": 0.031479,
     "end_time": "2020-08-19T18:55:38.538021",
     "exception": false,
     "start_time": "2020-08-19T18:55:38.506542",
     "status": "completed"
    },
    "tags": []
   },
   "outputs": [],
   "source": [
    "%load_ext autoreload\n",
    "%autoreload 2"
   ]
  },
  {
   "cell_type": "code",
   "execution_count": 2,
   "metadata": {
    "papermill": {
     "duration": 0.381569,
     "end_time": "2020-08-19T18:55:38.935656",
     "exception": false,
     "start_time": "2020-08-19T18:55:38.554087",
     "status": "completed"
    },
    "tags": []
   },
   "outputs": [],
   "source": [
    "import os\n",
    "import pickle\n",
    "from glob import glob\n",
    "from concurrent.futures import ProcessPoolExecutor, as_completed\n",
    "\n",
    "import numpy as np\n",
    "import pandas as pd\n",
    "from scipy import stats\n",
    "\n",
    "import settings as conf\n",
    "from utils import is_number, chunker"
   ]
  },
  {
   "cell_type": "markdown",
   "metadata": {
    "papermill": {
     "duration": 0.019484,
     "end_time": "2020-08-19T18:55:38.993808",
     "exception": false,
     "start_time": "2020-08-19T18:55:38.974324",
     "status": "completed"
    },
    "tags": []
   },
   "source": [
    "# Load S-PrediXcan results"
   ]
  },
  {
   "cell_type": "markdown",
   "metadata": {
    "papermill": {
     "duration": 0.015624,
     "end_time": "2020-08-19T18:55:39.027335",
     "exception": false,
     "start_time": "2020-08-19T18:55:39.011711",
     "status": "completed"
    },
    "tags": []
   },
   "source": [
    "## From Rapid GWAS project"
   ]
  },
  {
   "cell_type": "code",
   "execution_count": 3,
   "metadata": {
    "papermill": {
     "duration": 0.215159,
     "end_time": "2020-08-19T18:55:39.257734",
     "exception": false,
     "start_time": "2020-08-19T18:55:39.042575",
     "status": "completed"
    },
    "tags": []
   },
   "outputs": [],
   "source": [
    "from results.spredixcan import PhenoResults"
   ]
  },
  {
   "cell_type": "code",
   "execution_count": 4,
   "metadata": {
    "papermill": {
     "duration": 0.074487,
     "end_time": "2020-08-19T18:55:39.349027",
     "exception": false,
     "start_time": "2020-08-19T18:55:39.274540",
     "status": "completed"
    },
    "tags": []
   },
   "outputs": [
    {
     "data": {
      "text/plain": [
       "'/home/miltondp/projects/labs/hakyimlab/phenomexcan/base/results/spredixcan/rapid_gwas_project/*'"
      ]
     },
     "metadata": {},
     "output_type": "display_data"
    },
    {
     "data": {
      "text/plain": [
       "4049"
      ]
     },
     "metadata": {},
     "output_type": "display_data"
    }
   ],
   "source": [
    "_path = os.path.join(conf.SPREDIXCAN_RESULTS_DIR['RapidGWASProject'] + '/*')\n",
    "display(_path)\n",
    "all_spredixcan_results_dirs = [f for f in glob(_path) if os.path.isdir(f)]\n",
    "display(len(all_spredixcan_results_dirs))\n",
    "assert len(all_spredixcan_results_dirs) == conf.SPREDIXCAN_EXPECTED_PHENOTYPES['RapidGWASProject']"
   ]
  },
  {
   "cell_type": "code",
   "execution_count": 5,
   "metadata": {
    "papermill": {
     "duration": 35.506041,
     "end_time": "2020-08-19T18:56:14.872174",
     "exception": false,
     "start_time": "2020-08-19T18:55:39.366133",
     "status": "completed"
    },
    "tags": []
   },
   "outputs": [
    {
     "data": {
      "text/plain": [
       "4049"
      ]
     },
     "metadata": {},
     "output_type": "display_data"
    }
   ],
   "source": [
    "all_spredixcan_phenotypes = [PhenoResults(p) for p in all_spredixcan_results_dirs]\n",
    "\n",
    "display(len(all_spredixcan_phenotypes))\n",
    "assert len(all_spredixcan_phenotypes) == conf.SPREDIXCAN_EXPECTED_PHENOTYPES['RapidGWASProject']"
   ]
  },
  {
   "cell_type": "markdown",
   "metadata": {
    "papermill": {
     "duration": 0.016463,
     "end_time": "2020-08-19T18:56:14.905241",
     "exception": false,
     "start_time": "2020-08-19T18:56:14.888778",
     "status": "completed"
    },
    "tags": []
   },
   "source": [
    "## From GTEx GWAS manuscript"
   ]
  },
  {
   "cell_type": "code",
   "execution_count": 6,
   "metadata": {
    "papermill": {
     "duration": 0.034319,
     "end_time": "2020-08-19T18:56:14.955756",
     "exception": false,
     "start_time": "2020-08-19T18:56:14.921437",
     "status": "completed"
    },
    "tags": []
   },
   "outputs": [
    {
     "data": {
      "text/plain": [
       "'/home/miltondp/projects/labs/hakyimlab/phenomexcan/base/results/spredixcan/gtex_gwas/*'"
      ]
     },
     "metadata": {},
     "output_type": "display_data"
    },
    {
     "data": {
      "text/plain": [
       "42"
      ]
     },
     "metadata": {},
     "output_type": "display_data"
    }
   ],
   "source": [
    "_path = os.path.join(conf.SPREDIXCAN_RESULTS_DIR['GTEX_GWAS'] + '/*')\n",
    "display(_path)\n",
    "all_extra_results_dirs = [f for f in glob(_path) if os.path.isdir(f)]\n",
    "display(len(all_extra_results_dirs))\n",
    "assert len(all_extra_results_dirs) == conf.SPREDIXCAN_EXPECTED_PHENOTYPES['GTEX_GWAS']"
   ]
  },
  {
   "cell_type": "code",
   "execution_count": 7,
   "metadata": {
    "papermill": {
     "duration": 0.030327,
     "end_time": "2020-08-19T18:56:15.003560",
     "exception": false,
     "start_time": "2020-08-19T18:56:14.973233",
     "status": "completed"
    },
    "tags": []
   },
   "outputs": [
    {
     "data": {
      "text/plain": [
       "['/home/miltondp/projects/labs/hakyimlab/phenomexcan/base/results/spredixcan/gtex_gwas/GIANT_HEIGHT',\n",
       " '/home/miltondp/projects/labs/hakyimlab/phenomexcan/base/results/spredixcan/gtex_gwas/CNCR_Insomnia_all',\n",
       " '/home/miltondp/projects/labs/hakyimlab/phenomexcan/base/results/spredixcan/gtex_gwas/SSGAC_Education_Years_Pooled',\n",
       " '/home/miltondp/projects/labs/hakyimlab/phenomexcan/base/results/spredixcan/gtex_gwas/Astle_et_al_2016_White_blood_cell_count',\n",
       " '/home/miltondp/projects/labs/hakyimlab/phenomexcan/base/results/spredixcan/gtex_gwas/IGAP_Alzheimer']"
      ]
     },
     "execution_count": 7,
     "metadata": {},
     "output_type": "execute_result"
    }
   ],
   "source": [
    "all_extra_results_dirs[:5]"
   ]
  },
  {
   "cell_type": "code",
   "execution_count": 8,
   "metadata": {
    "papermill": {
     "duration": 0.081984,
     "end_time": "2020-08-19T18:56:15.102815",
     "exception": false,
     "start_time": "2020-08-19T18:56:15.020831",
     "status": "completed"
    },
    "tags": []
   },
   "outputs": [
    {
     "data": {
      "text/plain": [
       "42"
      ]
     },
     "metadata": {},
     "output_type": "display_data"
    }
   ],
   "source": [
    "_file_pattern = 'spredixcan_igwas_gtexmashrv8_(?P<code>[^/]+)__PM__(?P<tissue>.+)\\.csv$'\n",
    "all_extra_phenotypes = [PhenoResults(p, _file_pattern) for p in all_extra_results_dirs]\n",
    "all_extra_phenotypes_plain_names = pd.Index([p.pheno_info.get_plain_name() for p in all_extra_phenotypes])\n",
    "\n",
    "display(len(all_extra_phenotypes))\n",
    "assert len(all_extra_phenotypes) == conf.SMULTIXCAN_EXPECTED_PHENOTYPES['GTEX_GWAS']"
   ]
  },
  {
   "cell_type": "markdown",
   "metadata": {
    "papermill": {
     "duration": 0.016951,
     "end_time": "2020-08-19T18:56:15.136938",
     "exception": false,
     "start_time": "2020-08-19T18:56:15.119987",
     "status": "completed"
    },
    "tags": []
   },
   "source": [
    "# S-PrediXcan: direction of effect"
   ]
  },
  {
   "cell_type": "markdown",
   "metadata": {
    "papermill": {
     "duration": 0.016905,
     "end_time": "2020-08-19T18:56:15.170612",
     "exception": false,
     "start_time": "2020-08-19T18:56:15.153707",
     "status": "completed"
    },
    "tags": []
   },
   "source": [
    "## Effect direction: consensus"
   ]
  },
  {
   "cell_type": "code",
   "execution_count": 9,
   "metadata": {
    "papermill": {
     "duration": 0.029051,
     "end_time": "2020-08-19T18:56:15.216600",
     "exception": false,
     "start_time": "2020-08-19T18:56:15.187549",
     "status": "completed"
    },
    "tags": []
   },
   "outputs": [],
   "source": [
    "from results.spredixcan import PhenoResults"
   ]
  },
  {
   "cell_type": "markdown",
   "metadata": {
    "papermill": {
     "duration": 0.017062,
     "end_time": "2020-08-19T18:56:15.250866",
     "exception": false,
     "start_time": "2020-08-19T18:56:15.233804",
     "status": "completed"
    },
    "tags": []
   },
   "source": [
    "### Compute results"
   ]
  },
  {
   "cell_type": "code",
   "execution_count": 10,
   "metadata": {
    "papermill": {
     "duration": 0.030892,
     "end_time": "2020-08-19T18:56:15.298933",
     "exception": false,
     "start_time": "2020-08-19T18:56:15.268041",
     "status": "completed"
    },
    "tags": []
   },
   "outputs": [],
   "source": [
    "from tqdm import tqdm"
   ]
  },
  {
   "cell_type": "code",
   "execution_count": 11,
   "metadata": {
    "papermill": {
     "duration": 0.029625,
     "end_time": "2020-08-19T18:56:15.346055",
     "exception": false,
     "start_time": "2020-08-19T18:56:15.316430",
     "status": "completed"
    },
    "tags": []
   },
   "outputs": [],
   "source": [
    "def _get_combined_results(phenos):\n",
    "    return {\n",
    "        pheno.pheno_info.get_plain_name():\n",
    "            pheno.get_consensus_effect_direction()\n",
    "        for pheno in phenos\n",
    "    }"
   ]
  },
  {
   "cell_type": "code",
   "execution_count": 12,
   "metadata": {
    "papermill": {
     "duration": 0.030687,
     "end_time": "2020-08-19T18:56:15.394434",
     "exception": false,
     "start_time": "2020-08-19T18:56:15.363747",
     "status": "completed"
    },
    "tags": []
   },
   "outputs": [],
   "source": [
    "def _run_all(phenotype_chunks, n_jobs=conf.N_JOBS_HIGH):\n",
    "    all_results = {}\n",
    "    \n",
    "    with ProcessPoolExecutor(max_workers=n_jobs) as executor:\n",
    "        tasks = [executor.submit(_get_combined_results, chunk) for chunk in phenotype_chunks]\n",
    "        for future in tqdm(as_completed(tasks), total=len(tasks)):\n",
    "            res = future.result()\n",
    "            all_results.update(res)\n",
    "    \n",
    "    return all_results"
   ]
  },
  {
   "cell_type": "code",
   "execution_count": 13,
   "metadata": {
    "papermill": {
     "duration": 0.029586,
     "end_time": "2020-08-19T18:56:15.441919",
     "exception": false,
     "start_time": "2020-08-19T18:56:15.412333",
     "status": "completed"
    },
    "tags": []
   },
   "outputs": [],
   "source": [
    "# phenotype_chunks = chunker(all_spredixcan_phenotypes[:10] + all_extra_phenotypes[:10], 4)\n",
    "phenotype_chunks = chunker(all_spredixcan_phenotypes + all_extra_phenotypes, 10)"
   ]
  },
  {
   "cell_type": "code",
   "execution_count": 14,
   "metadata": {
    "papermill": {
     "duration": 31485.73704,
     "end_time": "2020-08-20T03:41:01.196846",
     "exception": false,
     "start_time": "2020-08-19T18:56:15.459806",
     "status": "completed"
    },
    "tags": []
   },
   "outputs": [
    {
     "name": "stderr",
     "output_type": "stream",
     "text": [
      "\r",
      "  0%|          | 0/410 [00:00<?, ?it/s]"
     ]
    },
    {
     "name": "stderr",
     "output_type": "stream",
     "text": [
      "\r",
      "  0%|          | 1/410 [04:55<33:37:10, 295.92s/it]"
     ]
    },
    {
     "name": "stderr",
     "output_type": "stream",
     "text": [
      "\r",
      "  0%|          | 2/410 [05:12<24:02:24, 212.12s/it]"
     ]
    },
    {
     "name": "stderr",
     "output_type": "stream",
     "text": [
      "\r",
      "  1%|          | 3/410 [05:14<16:52:15, 149.23s/it]"
     ]
    },
    {
     "name": "stderr",
     "output_type": "stream",
     "text": [
      "\r",
      "  1%|          | 4/410 [05:19<11:55:58, 105.81s/it]"
     ]
    },
    {
     "name": "stderr",
     "output_type": "stream",
     "text": [
      "\r",
      "  1%|          | 5/410 [10:05<17:59:55, 159.99s/it]"
     ]
    },
    {
     "name": "stderr",
     "output_type": "stream",
     "text": [
      "\r",
      "  1%|▏         | 6/410 [10:24<13:11:57, 117.62s/it]"
     ]
    },
    {
     "name": "stderr",
     "output_type": "stream",
     "text": [
      "\r",
      "  2%|▏         | 7/410 [10:27<9:18:21, 83.13s/it]  "
     ]
    },
    {
     "name": "stderr",
     "output_type": "stream",
     "text": [
      "\r",
      "  2%|▏         | 8/410 [10:28<6:32:43, 58.62s/it]"
     ]
    },
    {
     "name": "stderr",
     "output_type": "stream",
     "text": [
      "\r",
      "  2%|▏         | 9/410 [15:20<14:19:20, 128.58s/it]"
     ]
    },
    {
     "name": "stderr",
     "output_type": "stream",
     "text": [
      "\r",
      "  2%|▏         | 10/410 [15:32<10:24:34, 93.69s/it]"
     ]
    },
    {
     "name": "stderr",
     "output_type": "stream",
     "text": [
      "\r",
      "  3%|▎         | 11/410 [15:41<7:33:54, 68.26s/it] "
     ]
    },
    {
     "name": "stderr",
     "output_type": "stream",
     "text": [
      "\r",
      "  3%|▎         | 12/410 [15:43<5:20:30, 48.32s/it]"
     ]
    },
    {
     "name": "stderr",
     "output_type": "stream",
     "text": [
      "\r",
      "  3%|▎         | 13/410 [20:26<13:06:04, 118.80s/it]"
     ]
    },
    {
     "name": "stderr",
     "output_type": "stream",
     "text": [
      "\r",
      "  3%|▎         | 14/410 [20:40<9:35:12, 87.15s/it]  "
     ]
    },
    {
     "name": "stderr",
     "output_type": "stream",
     "text": [
      "\r",
      "  4%|▎         | 15/410 [20:49<7:00:58, 63.95s/it]"
     ]
    },
    {
     "name": "stderr",
     "output_type": "stream",
     "text": [
      "\r",
      "  4%|▍         | 16/410 [20:54<5:03:57, 46.29s/it]"
     ]
    },
    {
     "name": "stderr",
     "output_type": "stream",
     "text": [
      "\r",
      "  4%|▍         | 17/410 [25:39<12:51:00, 117.71s/it]"
     ]
    },
    {
     "name": "stderr",
     "output_type": "stream",
     "text": [
      "\r",
      "  4%|▍         | 18/410 [25:50<9:20:46, 85.83s/it]  "
     ]
    },
    {
     "name": "stderr",
     "output_type": "stream",
     "text": [
      "\r",
      "  5%|▍         | 19/410 [25:58<6:45:45, 62.26s/it]"
     ]
    },
    {
     "name": "stderr",
     "output_type": "stream",
     "text": [
      "\r",
      "  5%|▍         | 20/410 [26:04<4:55:16, 45.43s/it]"
     ]
    },
    {
     "name": "stderr",
     "output_type": "stream",
     "text": [
      "\r",
      "  5%|▌         | 21/410 [30:50<12:42:54, 117.67s/it]"
     ]
    },
    {
     "name": "stderr",
     "output_type": "stream",
     "text": [
      "\r",
      "  5%|▌         | 22/410 [31:06<9:23:52, 87.20s/it]  "
     ]
    },
    {
     "name": "stderr",
     "output_type": "stream",
     "text": [
      "\r",
      "  6%|▌         | 23/410 [31:07<6:34:38, 61.19s/it]"
     ]
    },
    {
     "name": "stderr",
     "output_type": "stream",
     "text": [
      "\r",
      "  6%|▌         | 24/410 [31:12<4:46:15, 44.50s/it]"
     ]
    },
    {
     "name": "stderr",
     "output_type": "stream",
     "text": [
      "\r",
      "  6%|▌         | 25/410 [36:00<12:33:52, 117.49s/it]"
     ]
    },
    {
     "name": "stderr",
     "output_type": "stream",
     "text": [
      "\r",
      "  6%|▋         | 26/410 [36:18<9:21:06, 87.67s/it]  "
     ]
    },
    {
     "name": "stderr",
     "output_type": "stream",
     "text": [
      "\r",
      "  7%|▋         | 27/410 [36:21<6:38:00, 62.35s/it]"
     ]
    },
    {
     "name": "stderr",
     "output_type": "stream",
     "text": [
      "\r",
      "  7%|▋         | 28/410 [36:23<4:41:09, 44.16s/it]"
     ]
    },
    {
     "name": "stderr",
     "output_type": "stream",
     "text": [
      "\r",
      "  7%|▋         | 29/410 [41:09<12:20:38, 116.64s/it]"
     ]
    },
    {
     "name": "stderr",
     "output_type": "stream",
     "text": [
      "\r",
      "  7%|▋         | 30/410 [41:27<9:10:54, 86.99s/it]  "
     ]
    },
    {
     "name": "stderr",
     "output_type": "stream",
     "text": [
      "\r",
      "  8%|▊         | 31/410 [41:32<6:34:33, 62.46s/it]"
     ]
    },
    {
     "name": "stderr",
     "output_type": "stream",
     "text": [
      "\r",
      "  8%|▊         | 32/410 [41:33<4:38:35, 44.22s/it]"
     ]
    },
    {
     "name": "stderr",
     "output_type": "stream",
     "text": [
      "\r",
      "  8%|▊         | 33/410 [46:19<12:13:19, 116.71s/it]"
     ]
    },
    {
     "name": "stderr",
     "output_type": "stream",
     "text": [
      "\r",
      "  8%|▊         | 34/410 [46:35<9:02:23, 86.55s/it]  "
     ]
    },
    {
     "name": "stderr",
     "output_type": "stream",
     "text": [
      "\r",
      "  9%|▊         | 35/410 [46:41<6:28:13, 62.12s/it]"
     ]
    },
    {
     "name": "stderr",
     "output_type": "stream",
     "text": [
      "\r",
      "  9%|▉         | 36/410 [46:47<4:42:19, 45.29s/it]"
     ]
    },
    {
     "name": "stderr",
     "output_type": "stream",
     "text": [
      "\r",
      "  9%|▉         | 37/410 [51:32<12:09:20, 117.32s/it]"
     ]
    },
    {
     "name": "stderr",
     "output_type": "stream",
     "text": [
      "\r",
      "  9%|▉         | 38/410 [51:47<8:57:41, 86.72s/it]  "
     ]
    },
    {
     "name": "stderr",
     "output_type": "stream",
     "text": [
      "\r",
      " 10%|▉         | 39/410 [51:51<6:22:28, 61.86s/it]"
     ]
    },
    {
     "name": "stderr",
     "output_type": "stream",
     "text": [
      "\r",
      " 10%|▉         | 40/410 [51:59<4:41:22, 45.63s/it]"
     ]
    },
    {
     "name": "stderr",
     "output_type": "stream",
     "text": [
      "\r",
      " 10%|█         | 41/410 [56:40<11:55:36, 116.36s/it]"
     ]
    },
    {
     "name": "stderr",
     "output_type": "stream",
     "text": [
      "\r",
      " 10%|█         | 42/410 [56:58<8:51:18, 86.63s/it]  "
     ]
    },
    {
     "name": "stderr",
     "output_type": "stream",
     "text": [
      "\r",
      " 10%|█         | 43/410 [57:01<6:17:26, 61.71s/it]"
     ]
    },
    {
     "name": "stderr",
     "output_type": "stream",
     "text": [
      "\r",
      " 11%|█         | 44/410 [57:08<4:35:47, 45.21s/it]"
     ]
    },
    {
     "name": "stderr",
     "output_type": "stream",
     "text": [
      "\r",
      " 11%|█         | 45/410 [1:01:49<11:46:16, 116.10s/it]"
     ]
    },
    {
     "name": "stderr",
     "output_type": "stream",
     "text": [
      "\r",
      " 11%|█         | 46/410 [1:02:08<8:46:10, 86.73s/it]  "
     ]
    },
    {
     "name": "stderr",
     "output_type": "stream",
     "text": [
      "\r",
      " 11%|█▏        | 47/410 [1:02:10<6:12:14, 61.53s/it]"
     ]
    },
    {
     "name": "stderr",
     "output_type": "stream",
     "text": [
      "\r",
      " 12%|█▏        | 48/410 [1:02:17<4:31:52, 45.06s/it]"
     ]
    },
    {
     "name": "stderr",
     "output_type": "stream",
     "text": [
      "\r",
      " 12%|█▏        | 49/410 [1:07:02<11:43:45, 116.97s/it]"
     ]
    },
    {
     "name": "stderr",
     "output_type": "stream",
     "text": [
      "\r",
      " 12%|█▏        | 50/410 [1:07:14<8:33:38, 85.61s/it]  "
     ]
    },
    {
     "name": "stderr",
     "output_type": "stream",
     "text": [
      "\r",
      " 12%|█▏        | 51/410 [1:07:16<6:02:33, 60.60s/it]"
     ]
    },
    {
     "name": "stderr",
     "output_type": "stream",
     "text": [
      "\r",
      " 13%|█▎        | 52/410 [1:07:31<4:38:34, 46.69s/it]"
     ]
    },
    {
     "name": "stderr",
     "output_type": "stream",
     "text": [
      "\r",
      " 13%|█▎        | 53/410 [1:12:12<11:37:12, 117.18s/it]"
     ]
    },
    {
     "name": "stderr",
     "output_type": "stream",
     "text": [
      "\r",
      " 13%|█▎        | 54/410 [1:12:20<8:20:47, 84.40s/it]  "
     ]
    },
    {
     "name": "stderr",
     "output_type": "stream",
     "text": [
      "\r",
      " 13%|█▎        | 55/410 [1:12:26<5:59:53, 60.83s/it]"
     ]
    },
    {
     "name": "stderr",
     "output_type": "stream",
     "text": [
      "\r",
      " 14%|█▎        | 56/410 [1:12:40<4:36:36, 46.88s/it]"
     ]
    },
    {
     "name": "stderr",
     "output_type": "stream",
     "text": [
      "\r",
      " 14%|█▍        | 57/410 [1:17:25<11:36:24, 118.37s/it]"
     ]
    },
    {
     "name": "stderr",
     "output_type": "stream",
     "text": [
      "\r",
      " 14%|█▍        | 58/410 [1:17:32<8:17:07, 84.74s/it]  "
     ]
    },
    {
     "name": "stderr",
     "output_type": "stream",
     "text": [
      "\r",
      " 14%|█▍        | 59/410 [1:17:35<5:52:02, 60.18s/it]"
     ]
    },
    {
     "name": "stderr",
     "output_type": "stream",
     "text": [
      "\r",
      " 15%|█▍        | 60/410 [1:17:55<4:41:22, 48.24s/it]"
     ]
    },
    {
     "name": "stderr",
     "output_type": "stream",
     "text": [
      "\r",
      " 15%|█▍        | 61/410 [1:22:36<11:27:11, 118.14s/it]"
     ]
    },
    {
     "name": "stderr",
     "output_type": "stream",
     "text": [
      "\r",
      " 15%|█▌        | 62/410 [1:22:38<8:03:09, 83.30s/it]  "
     ]
    },
    {
     "name": "stderr",
     "output_type": "stream",
     "text": [
      "\r",
      " 15%|█▌        | 63/410 [1:23:00<6:14:45, 64.80s/it]"
     ]
    },
    {
     "name": "stderr",
     "output_type": "stream",
     "text": [
      "\r",
      " 16%|█▌        | 64/410 [1:23:07<4:33:50, 47.49s/it]"
     ]
    },
    {
     "name": "stderr",
     "output_type": "stream",
     "text": [
      "\r",
      " 16%|█▌        | 65/410 [1:27:41<11:04:10, 115.51s/it]"
     ]
    },
    {
     "name": "stderr",
     "output_type": "stream",
     "text": [
      "\r",
      " 16%|█▌        | 66/410 [1:27:47<7:53:34, 82.60s/it]  "
     ]
    },
    {
     "name": "stderr",
     "output_type": "stream",
     "text": [
      "\r",
      " 16%|█▋        | 67/410 [1:28:09<6:07:22, 64.26s/it]"
     ]
    },
    {
     "name": "stderr",
     "output_type": "stream",
     "text": [
      "\r",
      " 17%|█▋        | 68/410 [1:28:15<4:28:09, 47.05s/it]"
     ]
    },
    {
     "name": "stderr",
     "output_type": "stream",
     "text": [
      "\r",
      " 17%|█▋        | 69/410 [1:32:48<10:52:24, 114.79s/it]"
     ]
    },
    {
     "name": "stderr",
     "output_type": "stream",
     "text": [
      "\r",
      " 17%|█▋        | 70/410 [1:32:57<7:49:23, 82.83s/it]  "
     ]
    },
    {
     "name": "stderr",
     "output_type": "stream",
     "text": [
      "\r",
      " 17%|█▋        | 71/410 [1:33:19<6:05:53, 64.76s/it]"
     ]
    },
    {
     "name": "stderr",
     "output_type": "stream",
     "text": [
      "\r",
      " 18%|█▊        | 72/410 [1:33:25<4:26:08, 47.24s/it]"
     ]
    },
    {
     "name": "stderr",
     "output_type": "stream",
     "text": [
      "\r",
      " 18%|█▊        | 73/410 [1:37:55<10:40:34, 114.05s/it]"
     ]
    },
    {
     "name": "stderr",
     "output_type": "stream",
     "text": [
      "\r",
      " 18%|█▊        | 74/410 [1:38:06<7:44:13, 82.90s/it]  "
     ]
    },
    {
     "name": "stderr",
     "output_type": "stream",
     "text": [
      "\r",
      " 18%|█▊        | 75/410 [1:38:34<6:11:28, 66.53s/it]"
     ]
    },
    {
     "name": "stderr",
     "output_type": "stream",
     "text": [
      "\r",
      " 19%|█▊        | 76/410 [1:38:38<4:26:50, 47.94s/it]"
     ]
    },
    {
     "name": "stderr",
     "output_type": "stream",
     "text": [
      "\r",
      " 19%|█▉        | 77/410 [1:43:03<10:27:04, 112.99s/it]"
     ]
    },
    {
     "name": "stderr",
     "output_type": "stream",
     "text": [
      "\r",
      " 19%|█▉        | 78/410 [1:43:15<7:36:54, 82.57s/it]  "
     ]
    },
    {
     "name": "stderr",
     "output_type": "stream",
     "text": [
      "\r",
      " 19%|█▉        | 79/410 [1:43:43<6:04:44, 66.12s/it]"
     ]
    },
    {
     "name": "stderr",
     "output_type": "stream",
     "text": [
      "\r",
      " 20%|█▉        | 80/410 [1:43:50<4:26:36, 48.47s/it]"
     ]
    },
    {
     "name": "stderr",
     "output_type": "stream",
     "text": [
      "\r",
      " 20%|█▉        | 81/410 [1:48:09<10:12:20, 111.67s/it]"
     ]
    },
    {
     "name": "stderr",
     "output_type": "stream",
     "text": [
      "\r",
      " 20%|██        | 82/410 [1:48:23<7:31:02, 82.51s/it]  "
     ]
    },
    {
     "name": "stderr",
     "output_type": "stream",
     "text": [
      "\r",
      " 20%|██        | 83/410 [1:48:52<6:01:17, 66.29s/it]"
     ]
    },
    {
     "name": "stderr",
     "output_type": "stream",
     "text": [
      "\r",
      " 20%|██        | 84/410 [1:49:00<4:24:34, 48.70s/it]"
     ]
    },
    {
     "name": "stderr",
     "output_type": "stream",
     "text": [
      "\r",
      " 21%|██        | 85/410 [1:53:15<9:59:24, 110.66s/it]"
     ]
    },
    {
     "name": "stderr",
     "output_type": "stream",
     "text": [
      "\r",
      " 21%|██        | 86/410 [1:53:28<7:19:56, 81.47s/it] "
     ]
    },
    {
     "name": "stderr",
     "output_type": "stream",
     "text": [
      "\r",
      " 21%|██        | 87/410 [1:54:01<6:00:37, 66.99s/it]"
     ]
    },
    {
     "name": "stderr",
     "output_type": "stream",
     "text": [
      "\r",
      " 21%|██▏       | 88/410 [1:54:07<4:20:49, 48.60s/it]"
     ]
    },
    {
     "name": "stderr",
     "output_type": "stream",
     "text": [
      "\r",
      " 22%|██▏       | 89/410 [1:58:35<10:12:44, 114.53s/it]"
     ]
    },
    {
     "name": "stderr",
     "output_type": "stream",
     "text": [
      "\r",
      " 22%|██▏       | 90/410 [1:58:40<7:14:25, 81.46s/it]  "
     ]
    },
    {
     "name": "stderr",
     "output_type": "stream",
     "text": [
      "\r",
      " 22%|██▏       | 91/410 [1:59:19<6:05:44, 68.79s/it]"
     ]
    },
    {
     "name": "stderr",
     "output_type": "stream",
     "text": [
      "\r",
      " 22%|██▏       | 92/410 [1:59:22<4:19:18, 48.93s/it]"
     ]
    },
    {
     "name": "stderr",
     "output_type": "stream",
     "text": [
      "\r",
      " 23%|██▎       | 93/410 [2:03:42<9:53:23, 112.31s/it]"
     ]
    },
    {
     "name": "stderr",
     "output_type": "stream",
     "text": [
      "\r",
      " 23%|██▎       | 94/410 [2:03:49<7:05:24, 80.77s/it] "
     ]
    },
    {
     "name": "stderr",
     "output_type": "stream",
     "text": [
      "\r",
      " 23%|██▎       | 95/410 [2:04:28<5:59:07, 68.41s/it]"
     ]
    },
    {
     "name": "stderr",
     "output_type": "stream",
     "text": [
      "\r",
      " 23%|██▎       | 96/410 [2:04:31<4:13:58, 48.53s/it]"
     ]
    },
    {
     "name": "stderr",
     "output_type": "stream",
     "text": [
      "\r",
      " 24%|██▎       | 97/410 [2:08:49<9:41:47, 111.53s/it]"
     ]
    },
    {
     "name": "stderr",
     "output_type": "stream",
     "text": [
      "\r",
      " 24%|██▍       | 98/410 [2:09:03<7:07:09, 82.14s/it] "
     ]
    },
    {
     "name": "stderr",
     "output_type": "stream",
     "text": [
      "\r",
      " 24%|██▍       | 99/410 [2:09:37<5:51:32, 67.82s/it]"
     ]
    },
    {
     "name": "stderr",
     "output_type": "stream",
     "text": [
      "\r",
      " 24%|██▍       | 100/410 [2:09:39<4:07:25, 47.89s/it]"
     ]
    },
    {
     "name": "stderr",
     "output_type": "stream",
     "text": [
      "\r",
      " 25%|██▍       | 101/410 [2:13:55<9:29:20, 110.55s/it]"
     ]
    },
    {
     "name": "stderr",
     "output_type": "stream",
     "text": [
      "\r",
      " 25%|██▍       | 102/410 [2:14:10<6:59:14, 81.67s/it] "
     ]
    },
    {
     "name": "stderr",
     "output_type": "stream",
     "text": [
      "\r",
      " 25%|██▌       | 103/410 [2:14:43<5:43:52, 67.21s/it]"
     ]
    },
    {
     "name": "stderr",
     "output_type": "stream",
     "text": [
      "\r",
      " 25%|██▌       | 104/410 [2:14:47<4:05:54, 48.22s/it]"
     ]
    },
    {
     "name": "stderr",
     "output_type": "stream",
     "text": [
      "\r",
      " 26%|██▌       | 105/410 [2:19:02<9:20:24, 110.25s/it]"
     ]
    },
    {
     "name": "stderr",
     "output_type": "stream",
     "text": [
      "\r",
      " 26%|██▌       | 106/410 [2:19:18<6:54:52, 81.88s/it] "
     ]
    },
    {
     "name": "stderr",
     "output_type": "stream",
     "text": [
      "\r",
      " 26%|██▌       | 107/410 [2:19:53<5:43:28, 68.01s/it]"
     ]
    },
    {
     "name": "stderr",
     "output_type": "stream",
     "text": [
      "\r",
      " 26%|██▋       | 108/410 [2:19:54<4:00:04, 47.70s/it]"
     ]
    },
    {
     "name": "stderr",
     "output_type": "stream",
     "text": [
      "\r",
      " 27%|██▋       | 109/410 [2:24:10<9:13:48, 110.40s/it]"
     ]
    },
    {
     "name": "stderr",
     "output_type": "stream",
     "text": [
      "\r",
      " 27%|██▋       | 110/410 [2:24:27<6:51:26, 82.29s/it] "
     ]
    },
    {
     "name": "stderr",
     "output_type": "stream",
     "text": [
      "\r",
      " 27%|██▋       | 111/410 [2:25:00<5:36:41, 67.56s/it]"
     ]
    },
    {
     "name": "stderr",
     "output_type": "stream",
     "text": [
      "\r",
      " 27%|██▋       | 112/410 [2:25:00<3:55:12, 47.36s/it]"
     ]
    },
    {
     "name": "stderr",
     "output_type": "stream",
     "text": [
      "\r",
      " 28%|██▊       | 113/410 [2:29:18<9:06:03, 110.31s/it]"
     ]
    },
    {
     "name": "stderr",
     "output_type": "stream",
     "text": [
      "\r",
      " 28%|██▊       | 114/410 [2:29:34<6:45:39, 82.23s/it] "
     ]
    },
    {
     "name": "stderr",
     "output_type": "stream",
     "text": [
      "\r",
      " 28%|██▊       | 115/410 [2:30:09<5:34:41, 68.07s/it]"
     ]
    },
    {
     "name": "stderr",
     "output_type": "stream",
     "text": [
      "\r",
      " 28%|██▊       | 116/410 [2:30:10<3:54:46, 47.91s/it]"
     ]
    },
    {
     "name": "stderr",
     "output_type": "stream",
     "text": [
      "\r",
      " 29%|██▊       | 117/410 [2:34:25<8:56:59, 109.97s/it]"
     ]
    },
    {
     "name": "stderr",
     "output_type": "stream",
     "text": [
      "\r",
      " 29%|██▉       | 118/410 [2:34:39<6:35:28, 81.26s/it] "
     ]
    },
    {
     "name": "stderr",
     "output_type": "stream",
     "text": [
      "\r",
      " 29%|██▉       | 119/410 [2:35:19<5:34:05, 68.88s/it]"
     ]
    },
    {
     "name": "stderr",
     "output_type": "stream",
     "text": [
      "\r",
      " 29%|██▉       | 120/410 [2:35:20<3:54:49, 48.59s/it]"
     ]
    },
    {
     "name": "stderr",
     "output_type": "stream",
     "text": [
      "\r",
      " 30%|██▉       | 121/410 [2:39:31<8:45:41, 109.14s/it]"
     ]
    },
    {
     "name": "stderr",
     "output_type": "stream",
     "text": [
      "\r",
      " 30%|██▉       | 122/410 [2:39:44<6:25:29, 80.31s/it] "
     ]
    },
    {
     "name": "stderr",
     "output_type": "stream",
     "text": [
      "\r",
      " 30%|███       | 123/410 [2:40:27<5:30:10, 69.03s/it]"
     ]
    },
    {
     "name": "stderr",
     "output_type": "stream",
     "text": [
      "\r",
      " 30%|███       | 124/410 [2:40:27<3:51:00, 48.46s/it]"
     ]
    },
    {
     "name": "stderr",
     "output_type": "stream",
     "text": [
      "\r",
      " 30%|███       | 125/410 [2:44:38<8:38:57, 109.26s/it]"
     ]
    },
    {
     "name": "stderr",
     "output_type": "stream",
     "text": [
      "\r",
      " 31%|███       | 126/410 [2:44:51<6:20:46, 80.44s/it] "
     ]
    },
    {
     "name": "stderr",
     "output_type": "stream",
     "text": [
      "\r",
      " 31%|███       | 127/410 [2:45:37<5:30:37, 70.10s/it]"
     ]
    },
    {
     "name": "stderr",
     "output_type": "stream",
     "text": [
      "\r",
      " 31%|███       | 128/410 [2:45:41<3:55:17, 50.06s/it]"
     ]
    },
    {
     "name": "stderr",
     "output_type": "stream",
     "text": [
      "\r",
      " 31%|███▏      | 129/410 [2:49:44<8:26:21, 108.12s/it]"
     ]
    },
    {
     "name": "stderr",
     "output_type": "stream",
     "text": [
      "\r",
      " 32%|███▏      | 130/410 [2:49:59<6:13:49, 80.10s/it] "
     ]
    },
    {
     "name": "stderr",
     "output_type": "stream",
     "text": [
      "\r",
      " 32%|███▏      | 131/410 [2:50:53<5:35:50, 72.23s/it]"
     ]
    },
    {
     "name": "stderr",
     "output_type": "stream",
     "text": [
      "\r",
      " 32%|███▏      | 133/410 [2:54:52<6:38:58, 86.42s/it]"
     ]
    },
    {
     "name": "stderr",
     "output_type": "stream",
     "text": [
      "\r",
      " 33%|███▎      | 134/410 [2:55:05<4:56:50, 64.53s/it]"
     ]
    },
    {
     "name": "stderr",
     "output_type": "stream",
     "text": [
      "\r",
      " 33%|███▎      | 135/410 [2:56:02<4:44:48, 62.14s/it]"
     ]
    },
    {
     "name": "stderr",
     "output_type": "stream",
     "text": [
      "\r",
      " 33%|███▎      | 136/410 [2:56:08<3:26:39, 45.25s/it]"
     ]
    },
    {
     "name": "stderr",
     "output_type": "stream",
     "text": [
      "\r",
      " 33%|███▎      | 137/410 [2:59:57<7:37:32, 100.56s/it]"
     ]
    },
    {
     "name": "stderr",
     "output_type": "stream",
     "text": [
      "\r",
      " 34%|███▎      | 138/410 [3:00:13<5:40:41, 75.15s/it] "
     ]
    },
    {
     "name": "stderr",
     "output_type": "stream",
     "text": [
      "\r",
      " 34%|███▍      | 139/410 [3:01:08<5:11:44, 69.02s/it]"
     ]
    },
    {
     "name": "stderr",
     "output_type": "stream",
     "text": [
      "\r",
      " 34%|███▍      | 140/410 [3:01:15<3:47:19, 50.52s/it]"
     ]
    },
    {
     "name": "stderr",
     "output_type": "stream",
     "text": [
      "\r",
      " 34%|███▍      | 141/410 [3:05:06<7:48:17, 104.45s/it]"
     ]
    },
    {
     "name": "stderr",
     "output_type": "stream",
     "text": [
      "\r",
      " 35%|███▍      | 142/410 [3:05:17<5:41:58, 76.56s/it] "
     ]
    },
    {
     "name": "stderr",
     "output_type": "stream",
     "text": [
      "\r",
      " 35%|███▍      | 143/410 [3:06:12<5:11:59, 70.11s/it]"
     ]
    },
    {
     "name": "stderr",
     "output_type": "stream",
     "text": [
      "\r",
      " 35%|███▌      | 144/410 [3:06:26<3:56:34, 53.36s/it]"
     ]
    },
    {
     "name": "stderr",
     "output_type": "stream",
     "text": [
      "\r",
      " 35%|███▌      | 145/410 [3:10:11<7:42:44, 104.77s/it]"
     ]
    },
    {
     "name": "stderr",
     "output_type": "stream",
     "text": [
      "\r",
      " 36%|███▌      | 146/410 [3:10:22<5:37:23, 76.68s/it] "
     ]
    },
    {
     "name": "stderr",
     "output_type": "stream",
     "text": [
      "\r",
      " 36%|███▌      | 147/410 [3:11:21<5:12:03, 71.19s/it]"
     ]
    },
    {
     "name": "stderr",
     "output_type": "stream",
     "text": [
      "\r",
      " 36%|███▌      | 148/410 [3:11:31<3:51:34, 53.03s/it]"
     ]
    },
    {
     "name": "stderr",
     "output_type": "stream",
     "text": [
      "\r",
      " 36%|███▋      | 149/410 [3:15:16<7:34:44, 104.54s/it]"
     ]
    },
    {
     "name": "stderr",
     "output_type": "stream",
     "text": [
      "\r",
      " 37%|███▋      | 150/410 [3:15:34<5:40:52, 78.66s/it] "
     ]
    },
    {
     "name": "stderr",
     "output_type": "stream",
     "text": [
      "\r",
      " 37%|███▋      | 151/410 [3:16:30<5:09:14, 71.64s/it]"
     ]
    },
    {
     "name": "stderr",
     "output_type": "stream",
     "text": [
      "\r",
      " 37%|███▋      | 152/410 [3:16:39<3:48:01, 53.03s/it]"
     ]
    },
    {
     "name": "stderr",
     "output_type": "stream",
     "text": [
      "\r",
      " 37%|███▋      | 153/410 [3:20:27<7:31:12, 105.34s/it]"
     ]
    },
    {
     "name": "stderr",
     "output_type": "stream",
     "text": [
      "\r",
      " 38%|███▊      | 154/410 [3:20:44<5:36:37, 78.90s/it] "
     ]
    },
    {
     "name": "stderr",
     "output_type": "stream",
     "text": [
      "\r",
      " 38%|███▊      | 155/410 [3:21:36<5:01:24, 70.92s/it]"
     ]
    },
    {
     "name": "stderr",
     "output_type": "stream",
     "text": [
      "\r",
      " 38%|███▊      | 156/410 [3:21:47<3:44:20, 52.99s/it]"
     ]
    },
    {
     "name": "stderr",
     "output_type": "stream",
     "text": [
      "\r",
      " 38%|███▊      | 157/410 [3:25:29<7:16:44, 103.58s/it]"
     ]
    },
    {
     "name": "stderr",
     "output_type": "stream",
     "text": [
      "\r",
      " 39%|███▊      | 158/410 [3:25:50<5:30:31, 78.70s/it] "
     ]
    },
    {
     "name": "stderr",
     "output_type": "stream",
     "text": [
      "\r",
      " 39%|███▉      | 159/410 [3:26:42<4:56:18, 70.83s/it]"
     ]
    },
    {
     "name": "stderr",
     "output_type": "stream",
     "text": [
      "\r",
      " 39%|███▉      | 160/410 [3:26:53<3:40:47, 52.99s/it]"
     ]
    },
    {
     "name": "stderr",
     "output_type": "stream",
     "text": [
      "\r",
      " 39%|███▉      | 161/410 [3:30:33<7:07:55, 103.11s/it]"
     ]
    },
    {
     "name": "stderr",
     "output_type": "stream",
     "text": [
      "\r",
      " 40%|███▉      | 162/410 [3:30:56<5:26:06, 78.90s/it] "
     ]
    },
    {
     "name": "stderr",
     "output_type": "stream",
     "text": [
      "\r",
      " 40%|███▉      | 163/410 [3:31:47<4:51:04, 70.71s/it]"
     ]
    },
    {
     "name": "stderr",
     "output_type": "stream",
     "text": [
      "\r",
      " 40%|████      | 164/410 [3:32:02<3:40:41, 53.83s/it]"
     ]
    },
    {
     "name": "stderr",
     "output_type": "stream",
     "text": [
      "\r",
      " 40%|████      | 165/410 [3:35:39<7:00:15, 102.92s/it]"
     ]
    },
    {
     "name": "stderr",
     "output_type": "stream",
     "text": [
      "\r",
      " 40%|████      | 166/410 [3:36:02<5:20:05, 78.71s/it] "
     ]
    },
    {
     "name": "stderr",
     "output_type": "stream",
     "text": [
      "\r",
      " 41%|████      | 167/410 [3:36:55<4:47:48, 71.07s/it]"
     ]
    },
    {
     "name": "stderr",
     "output_type": "stream",
     "text": [
      "\r",
      " 41%|████      | 168/410 [3:37:06<3:34:09, 53.10s/it]"
     ]
    },
    {
     "name": "stderr",
     "output_type": "stream",
     "text": [
      "\r",
      " 41%|████      | 169/410 [3:40:44<6:52:10, 102.62s/it]"
     ]
    },
    {
     "name": "stderr",
     "output_type": "stream",
     "text": [
      "\r",
      " 41%|████▏     | 170/410 [3:41:13<5:21:32, 80.39s/it] "
     ]
    },
    {
     "name": "stderr",
     "output_type": "stream",
     "text": [
      "\r",
      " 42%|████▏     | 171/410 [3:42:02<4:43:38, 71.21s/it]"
     ]
    },
    {
     "name": "stderr",
     "output_type": "stream",
     "text": [
      "\r",
      " 42%|████▏     | 172/410 [3:42:17<3:34:56, 54.19s/it]"
     ]
    },
    {
     "name": "stderr",
     "output_type": "stream",
     "text": [
      "\r",
      " 42%|████▏     | 173/410 [3:45:52<6:44:44, 102.47s/it]"
     ]
    },
    {
     "name": "stderr",
     "output_type": "stream",
     "text": [
      "\r",
      " 42%|████▏     | 174/410 [3:46:17<5:11:44, 79.26s/it] "
     ]
    },
    {
     "name": "stderr",
     "output_type": "stream",
     "text": [
      "\r",
      " 43%|████▎     | 175/410 [3:47:10<4:39:04, 71.26s/it]"
     ]
    },
    {
     "name": "stderr",
     "output_type": "stream",
     "text": [
      "\r",
      " 43%|████▎     | 176/410 [3:47:21<3:28:15, 53.40s/it]"
     ]
    },
    {
     "name": "stderr",
     "output_type": "stream",
     "text": [
      "\r",
      " 43%|████▎     | 177/410 [3:51:01<6:40:32, 103.14s/it]"
     ]
    },
    {
     "name": "stderr",
     "output_type": "stream",
     "text": [
      "\r",
      " 43%|████▎     | 178/410 [3:51:21<5:02:26, 78.22s/it] "
     ]
    },
    {
     "name": "stderr",
     "output_type": "stream",
     "text": [
      "\r",
      " 44%|████▎     | 179/410 [3:52:19<4:37:59, 72.21s/it]"
     ]
    },
    {
     "name": "stderr",
     "output_type": "stream",
     "text": [
      "\r",
      " 44%|████▍     | 180/410 [3:52:29<3:24:59, 53.47s/it]"
     ]
    },
    {
     "name": "stderr",
     "output_type": "stream",
     "text": [
      "\r",
      " 44%|████▍     | 181/410 [3:56:07<6:32:29, 102.84s/it]"
     ]
    },
    {
     "name": "stderr",
     "output_type": "stream",
     "text": [
      "\r",
      " 44%|████▍     | 182/410 [3:56:28<4:57:18, 78.24s/it] "
     ]
    },
    {
     "name": "stderr",
     "output_type": "stream",
     "text": [
      "\r",
      " 45%|████▍     | 183/410 [3:57:28<4:35:22, 72.79s/it]"
     ]
    },
    {
     "name": "stderr",
     "output_type": "stream",
     "text": [
      "\r",
      " 45%|████▍     | 184/410 [3:57:34<3:19:38, 53.00s/it]"
     ]
    },
    {
     "name": "stderr",
     "output_type": "stream",
     "text": [
      "\r",
      " 45%|████▌     | 185/410 [4:01:12<6:23:56, 102.39s/it]"
     ]
    },
    {
     "name": "stderr",
     "output_type": "stream",
     "text": [
      "\r",
      " 45%|████▌     | 186/410 [4:01:38<4:56:23, 79.39s/it] "
     ]
    },
    {
     "name": "stderr",
     "output_type": "stream",
     "text": [
      "\r",
      " 46%|████▌     | 187/410 [4:02:34<4:28:52, 72.35s/it]"
     ]
    },
    {
     "name": "stderr",
     "output_type": "stream",
     "text": [
      "\r",
      " 46%|████▌     | 188/410 [4:02:40<3:13:56, 52.42s/it]"
     ]
    },
    {
     "name": "stderr",
     "output_type": "stream",
     "text": [
      "\r",
      " 46%|████▌     | 189/410 [4:06:22<6:20:24, 103.28s/it]"
     ]
    },
    {
     "name": "stderr",
     "output_type": "stream",
     "text": [
      "\r",
      " 46%|████▋     | 190/410 [4:06:45<4:50:51, 79.32s/it] "
     ]
    },
    {
     "name": "stderr",
     "output_type": "stream",
     "text": [
      "\r",
      " 47%|████▋     | 191/410 [4:07:38<4:20:56, 71.49s/it]"
     ]
    },
    {
     "name": "stderr",
     "output_type": "stream",
     "text": [
      "\r",
      " 47%|████▋     | 192/410 [4:07:48<3:12:21, 52.94s/it]"
     ]
    },
    {
     "name": "stderr",
     "output_type": "stream",
     "text": [
      "\r",
      " 47%|████▋     | 193/410 [4:11:27<6:12:11, 102.91s/it]"
     ]
    },
    {
     "name": "stderr",
     "output_type": "stream",
     "text": [
      "\r",
      " 47%|████▋     | 194/410 [4:11:48<4:42:03, 78.35s/it] "
     ]
    },
    {
     "name": "stderr",
     "output_type": "stream",
     "text": [
      "\r",
      " 48%|████▊     | 195/410 [4:12:43<4:14:41, 71.08s/it]"
     ]
    },
    {
     "name": "stderr",
     "output_type": "stream",
     "text": [
      "\r",
      " 48%|████▊     | 196/410 [4:12:51<3:06:59, 52.43s/it]"
     ]
    },
    {
     "name": "stderr",
     "output_type": "stream",
     "text": [
      "\r",
      " 48%|████▊     | 197/410 [4:16:36<6:09:37, 104.12s/it]"
     ]
    },
    {
     "name": "stderr",
     "output_type": "stream",
     "text": [
      "\r",
      " 48%|████▊     | 198/410 [4:16:52<4:34:48, 77.77s/it] "
     ]
    },
    {
     "name": "stderr",
     "output_type": "stream",
     "text": [
      "\r",
      " 49%|████▊     | 199/410 [4:17:49<4:10:48, 71.32s/it]"
     ]
    },
    {
     "name": "stderr",
     "output_type": "stream",
     "text": [
      "\r",
      " 49%|████▉     | 200/410 [4:17:57<3:03:02, 52.30s/it]"
     ]
    },
    {
     "name": "stderr",
     "output_type": "stream",
     "text": [
      "\r",
      " 49%|████▉     | 201/410 [4:21:38<5:58:28, 102.91s/it]"
     ]
    },
    {
     "name": "stderr",
     "output_type": "stream",
     "text": [
      "\r",
      " 49%|████▉     | 202/410 [4:21:56<4:28:23, 77.42s/it] "
     ]
    },
    {
     "name": "stderr",
     "output_type": "stream",
     "text": [
      "\r",
      " 50%|████▉     | 203/410 [4:22:54<4:07:35, 71.77s/it]"
     ]
    },
    {
     "name": "stderr",
     "output_type": "stream",
     "text": [
      "\r",
      " 50%|████▉     | 204/410 [4:23:02<3:00:30, 52.58s/it]"
     ]
    },
    {
     "name": "stderr",
     "output_type": "stream",
     "text": [
      "\r",
      " 50%|█████     | 205/410 [4:26:49<5:58:45, 105.00s/it]"
     ]
    },
    {
     "name": "stderr",
     "output_type": "stream",
     "text": [
      "\r",
      " 50%|█████     | 206/410 [4:27:01<4:22:01, 77.06s/it] "
     ]
    },
    {
     "name": "stderr",
     "output_type": "stream",
     "text": [
      "\r",
      " 50%|█████     | 207/410 [4:28:00<4:02:14, 71.60s/it]"
     ]
    },
    {
     "name": "stderr",
     "output_type": "stream",
     "text": [
      "\r",
      " 51%|█████     | 208/410 [4:28:06<2:54:25, 51.81s/it]"
     ]
    },
    {
     "name": "stderr",
     "output_type": "stream",
     "text": [
      "\r",
      " 51%|█████     | 209/410 [4:31:58<5:54:43, 105.89s/it]"
     ]
    },
    {
     "name": "stderr",
     "output_type": "stream",
     "text": [
      "\r",
      " 51%|█████     | 210/410 [4:32:05<4:14:14, 76.27s/it] "
     ]
    },
    {
     "name": "stderr",
     "output_type": "stream",
     "text": [
      "\r",
      " 51%|█████▏    | 211/410 [4:33:07<3:58:30, 71.91s/it]"
     ]
    },
    {
     "name": "stderr",
     "output_type": "stream",
     "text": [
      "\r",
      " 52%|█████▏    | 212/410 [4:33:13<2:52:52, 52.38s/it]"
     ]
    },
    {
     "name": "stderr",
     "output_type": "stream",
     "text": [
      "\r",
      " 52%|█████▏    | 213/410 [4:37:06<5:49:24, 106.42s/it]"
     ]
    },
    {
     "name": "stderr",
     "output_type": "stream",
     "text": [
      "\r",
      " 52%|█████▏    | 214/410 [4:37:10<4:06:48, 75.55s/it] "
     ]
    },
    {
     "name": "stderr",
     "output_type": "stream",
     "text": [
      "\r",
      " 52%|█████▏    | 215/410 [4:38:12<3:53:03, 71.71s/it]"
     ]
    },
    {
     "name": "stderr",
     "output_type": "stream",
     "text": [
      "\r",
      " 53%|█████▎    | 216/410 [4:38:18<2:47:43, 51.87s/it]"
     ]
    },
    {
     "name": "stderr",
     "output_type": "stream",
     "text": [
      "\r",
      " 53%|█████▎    | 217/410 [4:42:12<5:42:22, 106.44s/it]"
     ]
    },
    {
     "name": "stderr",
     "output_type": "stream",
     "text": [
      "\r",
      " 53%|█████▎    | 218/410 [4:42:13<3:59:57, 74.99s/it] "
     ]
    },
    {
     "name": "stderr",
     "output_type": "stream",
     "text": [
      "\r",
      " 53%|█████▎    | 219/410 [4:43:18<3:49:20, 72.04s/it]"
     ]
    },
    {
     "name": "stderr",
     "output_type": "stream",
     "text": [
      "\r",
      " 54%|█████▎    | 220/410 [4:43:30<2:50:18, 53.78s/it]"
     ]
    },
    {
     "name": "stderr",
     "output_type": "stream",
     "text": [
      "\r",
      " 54%|█████▍    | 221/410 [4:47:20<5:36:15, 106.75s/it]"
     ]
    },
    {
     "name": "stderr",
     "output_type": "stream",
     "text": [
      "\r",
      " 54%|█████▍    | 222/410 [4:47:20<3:54:20, 74.79s/it] "
     ]
    },
    {
     "name": "stderr",
     "output_type": "stream",
     "text": [
      "\r",
      " 54%|█████▍    | 223/410 [4:48:27<3:45:20, 72.30s/it]"
     ]
    },
    {
     "name": "stderr",
     "output_type": "stream",
     "text": [
      "\r",
      " 55%|█████▍    | 224/410 [4:48:35<2:44:58, 53.22s/it]"
     ]
    },
    {
     "name": "stderr",
     "output_type": "stream",
     "text": [
      "\r",
      " 55%|█████▍    | 225/410 [4:52:26<5:28:08, 106.42s/it]"
     ]
    },
    {
     "name": "stderr",
     "output_type": "stream",
     "text": [
      "\r",
      " 55%|█████▌    | 226/410 [4:52:26<3:49:01, 74.68s/it] "
     ]
    },
    {
     "name": "stderr",
     "output_type": "stream",
     "text": [
      "\r",
      " 55%|█████▌    | 227/410 [4:53:33<3:40:35, 72.33s/it]"
     ]
    },
    {
     "name": "stderr",
     "output_type": "stream",
     "text": [
      "\r",
      " 56%|█████▌    | 228/410 [4:53:42<2:41:29, 53.24s/it]"
     ]
    },
    {
     "name": "stderr",
     "output_type": "stream",
     "text": [
      "\r",
      " 56%|█████▌    | 229/410 [4:57:31<5:19:12, 105.82s/it]"
     ]
    },
    {
     "name": "stderr",
     "output_type": "stream",
     "text": [
      "\r",
      " 56%|█████▌    | 230/410 [4:57:32<3:43:37, 74.54s/it] "
     ]
    },
    {
     "name": "stderr",
     "output_type": "stream",
     "text": [
      "\r",
      " 56%|█████▋    | 231/410 [4:58:41<3:37:37, 72.95s/it]"
     ]
    },
    {
     "name": "stderr",
     "output_type": "stream",
     "text": [
      "\r",
      " 57%|█████▋    | 232/410 [4:58:48<2:37:14, 53.01s/it]"
     ]
    },
    {
     "name": "stderr",
     "output_type": "stream",
     "text": [
      "\r",
      " 57%|█████▋    | 233/410 [5:02:33<5:08:55, 104.72s/it]"
     ]
    },
    {
     "name": "stderr",
     "output_type": "stream",
     "text": [
      "\r",
      " 57%|█████▋    | 234/410 [5:02:41<3:41:55, 75.66s/it] "
     ]
    },
    {
     "name": "stderr",
     "output_type": "stream",
     "text": [
      "\r",
      " 57%|█████▋    | 235/410 [5:03:51<3:36:04, 74.08s/it]"
     ]
    },
    {
     "name": "stderr",
     "output_type": "stream",
     "text": [
      "\r",
      " 58%|█████▊    | 236/410 [5:03:53<2:32:08, 52.46s/it]"
     ]
    },
    {
     "name": "stderr",
     "output_type": "stream",
     "text": [
      "\r",
      " 58%|█████▊    | 237/410 [5:07:43<5:04:16, 105.53s/it]"
     ]
    },
    {
     "name": "stderr",
     "output_type": "stream",
     "text": [
      "\r",
      " 58%|█████▊    | 238/410 [5:07:47<3:35:15, 75.09s/it] "
     ]
    },
    {
     "name": "stderr",
     "output_type": "stream",
     "text": [
      "\r",
      " 58%|█████▊    | 239/410 [5:08:55<3:27:46, 72.90s/it]"
     ]
    },
    {
     "name": "stderr",
     "output_type": "stream",
     "text": [
      "\r",
      " 59%|█████▊    | 240/410 [5:08:57<2:26:52, 51.84s/it]"
     ]
    },
    {
     "name": "stderr",
     "output_type": "stream",
     "text": [
      "\r",
      " 59%|█████▉    | 241/410 [5:12:53<5:01:08, 106.91s/it]"
     ]
    },
    {
     "name": "stderr",
     "output_type": "stream",
     "text": [
      "\r",
      " 59%|█████▉    | 242/410 [5:12:55<3:31:41, 75.60s/it] "
     ]
    },
    {
     "name": "stderr",
     "output_type": "stream",
     "text": [
      "\r",
      " 59%|█████▉    | 243/410 [5:14:00<3:21:39, 72.45s/it]"
     ]
    },
    {
     "name": "stderr",
     "output_type": "stream",
     "text": [
      "\r",
      " 60%|█████▉    | 244/410 [5:14:01<2:20:42, 50.86s/it]"
     ]
    },
    {
     "name": "stderr",
     "output_type": "stream",
     "text": [
      "\r",
      " 60%|█████▉    | 245/410 [5:17:57<4:52:53, 106.51s/it]"
     ]
    },
    {
     "name": "stderr",
     "output_type": "stream",
     "text": [
      "\r",
      " 60%|██████    | 246/410 [5:17:59<3:25:20, 75.13s/it] "
     ]
    },
    {
     "name": "stderr",
     "output_type": "stream",
     "text": [
      "\r",
      " 60%|██████    | 247/410 [5:19:03<3:15:14, 71.87s/it]"
     ]
    },
    {
     "name": "stderr",
     "output_type": "stream",
     "text": [
      "\r",
      " 60%|██████    | 248/410 [5:19:05<2:17:30, 50.93s/it]"
     ]
    },
    {
     "name": "stderr",
     "output_type": "stream",
     "text": [
      "\r",
      " 61%|██████    | 249/410 [5:23:00<4:44:49, 106.15s/it]"
     ]
    },
    {
     "name": "stderr",
     "output_type": "stream",
     "text": [
      "\r",
      " 61%|██████    | 250/410 [5:23:03<3:20:31, 75.19s/it] "
     ]
    },
    {
     "name": "stderr",
     "output_type": "stream",
     "text": [
      "\r",
      " 61%|██████    | 251/410 [5:24:07<3:10:18, 71.81s/it]"
     ]
    },
    {
     "name": "stderr",
     "output_type": "stream",
     "text": [
      "\r",
      " 61%|██████▏   | 252/410 [5:24:10<2:14:38, 51.13s/it]"
     ]
    },
    {
     "name": "stderr",
     "output_type": "stream",
     "text": [
      "\r",
      " 62%|██████▏   | 253/410 [5:28:06<4:38:48, 106.55s/it]"
     ]
    },
    {
     "name": "stderr",
     "output_type": "stream",
     "text": [
      "\r",
      " 62%|██████▏   | 254/410 [5:28:08<3:15:27, 75.18s/it] "
     ]
    },
    {
     "name": "stderr",
     "output_type": "stream",
     "text": [
      "\r",
      " 62%|██████▏   | 255/410 [5:29:13<3:06:26, 72.17s/it]"
     ]
    },
    {
     "name": "stderr",
     "output_type": "stream",
     "text": [
      "\r",
      " 62%|██████▏   | 256/410 [5:29:15<2:11:12, 51.12s/it]"
     ]
    },
    {
     "name": "stderr",
     "output_type": "stream",
     "text": [
      "\r",
      " 63%|██████▎   | 257/410 [5:33:13<4:33:05, 107.10s/it]"
     ]
    },
    {
     "name": "stderr",
     "output_type": "stream",
     "text": [
      "\r",
      " 63%|██████▎   | 258/410 [5:33:16<3:12:14, 75.88s/it] "
     ]
    },
    {
     "name": "stderr",
     "output_type": "stream",
     "text": [
      "\r",
      " 63%|██████▎   | 259/410 [5:34:20<3:01:41, 72.19s/it]"
     ]
    },
    {
     "name": "stderr",
     "output_type": "stream",
     "text": [
      "\r",
      " 63%|██████▎   | 260/410 [5:34:27<2:11:52, 52.75s/it]"
     ]
    },
    {
     "name": "stderr",
     "output_type": "stream",
     "text": [
      "\r",
      " 64%|██████▎   | 261/410 [5:38:17<4:22:55, 105.88s/it]"
     ]
    },
    {
     "name": "stderr",
     "output_type": "stream",
     "text": [
      "\r",
      " 64%|██████▍   | 262/410 [5:38:18<3:03:28, 74.38s/it] "
     ]
    },
    {
     "name": "stderr",
     "output_type": "stream",
     "text": [
      "\r",
      " 64%|██████▍   | 263/410 [5:39:26<2:57:29, 72.45s/it]"
     ]
    },
    {
     "name": "stderr",
     "output_type": "stream",
     "text": [
      "\r",
      " 64%|██████▍   | 264/410 [5:39:31<2:07:16, 52.30s/it]"
     ]
    },
    {
     "name": "stderr",
     "output_type": "stream",
     "text": [
      "\r",
      " 65%|██████▍   | 265/410 [5:43:19<4:14:01, 105.11s/it]"
     ]
    },
    {
     "name": "stderr",
     "output_type": "stream",
     "text": [
      "\r",
      " 65%|██████▍   | 266/410 [5:43:21<2:57:40, 74.03s/it] "
     ]
    },
    {
     "name": "stderr",
     "output_type": "stream",
     "text": [
      "\r",
      " 65%|██████▌   | 267/410 [5:44:31<2:53:46, 72.92s/it]"
     ]
    },
    {
     "name": "stderr",
     "output_type": "stream",
     "text": [
      "\r",
      " 65%|██████▌   | 268/410 [5:44:36<2:04:39, 52.67s/it]"
     ]
    },
    {
     "name": "stderr",
     "output_type": "stream",
     "text": [
      "\r",
      " 66%|██████▌   | 269/410 [5:48:23<4:06:15, 104.79s/it]"
     ]
    },
    {
     "name": "stderr",
     "output_type": "stream",
     "text": [
      "\r",
      " 66%|██████▌   | 270/410 [5:48:29<2:55:28, 75.20s/it] "
     ]
    },
    {
     "name": "stderr",
     "output_type": "stream",
     "text": [
      "\r",
      " 66%|██████▌   | 271/410 [5:49:40<2:51:27, 74.01s/it]"
     ]
    },
    {
     "name": "stderr",
     "output_type": "stream",
     "text": [
      "\r",
      " 66%|██████▋   | 272/410 [5:49:43<2:00:53, 52.56s/it]"
     ]
    },
    {
     "name": "stderr",
     "output_type": "stream",
     "text": [
      "\r",
      " 67%|██████▋   | 273/410 [5:53:25<3:56:20, 103.51s/it]"
     ]
    },
    {
     "name": "stderr",
     "output_type": "stream",
     "text": [
      "\r",
      " 67%|██████▋   | 274/410 [5:53:30<2:47:25, 73.87s/it] "
     ]
    },
    {
     "name": "stderr",
     "output_type": "stream",
     "text": [
      "\r",
      " 67%|██████▋   | 275/410 [5:54:46<2:47:29, 74.44s/it]"
     ]
    },
    {
     "name": "stderr",
     "output_type": "stream",
     "text": [
      "\r",
      " 67%|██████▋   | 276/410 [5:54:48<1:58:10, 52.91s/it]"
     ]
    },
    {
     "name": "stderr",
     "output_type": "stream",
     "text": [
      "\r",
      " 68%|██████▊   | 277/410 [5:58:28<3:48:27, 103.06s/it]"
     ]
    },
    {
     "name": "stderr",
     "output_type": "stream",
     "text": [
      "\r",
      " 68%|██████▊   | 278/410 [5:58:37<2:44:17, 74.68s/it] "
     ]
    },
    {
     "name": "stderr",
     "output_type": "stream",
     "text": [
      "\r",
      " 68%|██████▊   | 279/410 [5:59:50<2:41:55, 74.16s/it]"
     ]
    },
    {
     "name": "stderr",
     "output_type": "stream",
     "text": [
      "\r",
      " 68%|██████▊   | 280/410 [5:59:54<1:55:14, 53.19s/it]"
     ]
    },
    {
     "name": "stderr",
     "output_type": "stream",
     "text": [
      "\r",
      " 69%|██████▊   | 281/410 [6:03:34<3:41:44, 103.13s/it]"
     ]
    },
    {
     "name": "stderr",
     "output_type": "stream",
     "text": [
      "\r",
      " 69%|██████▉   | 282/410 [6:03:42<2:39:16, 74.66s/it] "
     ]
    },
    {
     "name": "stderr",
     "output_type": "stream",
     "text": [
      "\r",
      " 69%|██████▉   | 283/410 [6:04:54<2:36:23, 73.89s/it]"
     ]
    },
    {
     "name": "stderr",
     "output_type": "stream",
     "text": [
      "\r",
      " 69%|██████▉   | 284/410 [6:04:56<1:50:04, 52.41s/it]"
     ]
    },
    {
     "name": "stderr",
     "output_type": "stream",
     "text": [
      "\r",
      " 70%|██████▉   | 285/410 [6:08:35<3:32:58, 102.22s/it]"
     ]
    },
    {
     "name": "stderr",
     "output_type": "stream",
     "text": [
      "\r",
      " 70%|██████▉   | 286/410 [6:08:45<2:34:17, 74.66s/it] "
     ]
    },
    {
     "name": "stderr",
     "output_type": "stream",
     "text": [
      "\r",
      " 70%|███████   | 287/410 [6:09:57<2:31:33, 73.93s/it]"
     ]
    },
    {
     "name": "stderr",
     "output_type": "stream",
     "text": [
      "\r",
      " 70%|███████   | 288/410 [6:10:02<1:47:49, 53.03s/it]"
     ]
    },
    {
     "name": "stderr",
     "output_type": "stream",
     "text": [
      "\r",
      " 70%|███████   | 289/410 [6:13:41<3:27:24, 102.85s/it]"
     ]
    },
    {
     "name": "stderr",
     "output_type": "stream",
     "text": [
      "\r",
      " 71%|███████   | 290/410 [6:13:50<2:29:30, 74.75s/it] "
     ]
    },
    {
     "name": "stderr",
     "output_type": "stream",
     "text": [
      "\r",
      " 71%|███████   | 291/410 [6:15:06<2:28:55, 75.09s/it]"
     ]
    },
    {
     "name": "stderr",
     "output_type": "stream",
     "text": [
      "\r",
      " 71%|███████   | 292/410 [6:15:06<1:43:36, 52.68s/it]"
     ]
    },
    {
     "name": "stderr",
     "output_type": "stream",
     "text": [
      "\r",
      " 71%|███████▏  | 293/410 [6:18:41<3:17:28, 101.27s/it]"
     ]
    },
    {
     "name": "stderr",
     "output_type": "stream",
     "text": [
      "\r",
      " 72%|███████▏  | 294/410 [6:18:53<2:24:21, 74.67s/it] "
     ]
    },
    {
     "name": "stderr",
     "output_type": "stream",
     "text": [
      "\r",
      " 72%|███████▏  | 295/410 [6:20:11<2:24:55, 75.61s/it]"
     ]
    },
    {
     "name": "stderr",
     "output_type": "stream",
     "text": [
      "\r",
      " 72%|███████▏  | 296/410 [6:20:14<1:41:50, 53.60s/it]"
     ]
    },
    {
     "name": "stderr",
     "output_type": "stream",
     "text": [
      "\r",
      " 72%|███████▏  | 297/410 [6:23:45<3:10:18, 101.05s/it]"
     ]
    },
    {
     "name": "stderr",
     "output_type": "stream",
     "text": [
      "\r",
      " 73%|███████▎  | 298/410 [6:23:57<2:18:48, 74.37s/it] "
     ]
    },
    {
     "name": "stderr",
     "output_type": "stream",
     "text": [
      "\r",
      " 73%|███████▎  | 299/410 [6:25:18<2:20:50, 76.13s/it]"
     ]
    },
    {
     "name": "stderr",
     "output_type": "stream",
     "text": [
      "\r",
      " 73%|███████▎  | 300/410 [6:25:22<1:39:57, 54.52s/it]"
     ]
    },
    {
     "name": "stderr",
     "output_type": "stream",
     "text": [
      "\r",
      " 73%|███████▎  | 301/410 [6:28:49<3:02:26, 100.43s/it]"
     ]
    },
    {
     "name": "stderr",
     "output_type": "stream",
     "text": [
      "\r",
      " 74%|███████▎  | 302/410 [6:28:59<2:11:52, 73.26s/it] "
     ]
    },
    {
     "name": "stderr",
     "output_type": "stream",
     "text": [
      "\r",
      " 74%|███████▍  | 303/410 [6:30:22<2:15:53, 76.20s/it]"
     ]
    },
    {
     "name": "stderr",
     "output_type": "stream",
     "text": [
      "\r",
      " 74%|███████▍  | 304/410 [6:30:25<1:35:51, 54.26s/it]"
     ]
    },
    {
     "name": "stderr",
     "output_type": "stream",
     "text": [
      "\r",
      " 74%|███████▍  | 305/410 [6:33:54<2:56:04, 100.61s/it]"
     ]
    },
    {
     "name": "stderr",
     "output_type": "stream",
     "text": [
      "\r",
      " 75%|███████▍  | 306/410 [6:34:03<2:06:57, 73.25s/it] "
     ]
    },
    {
     "name": "stderr",
     "output_type": "stream",
     "text": [
      "\r",
      " 75%|███████▍  | 307/410 [6:35:27<2:10:50, 76.22s/it]"
     ]
    },
    {
     "name": "stderr",
     "output_type": "stream",
     "text": [
      "\r",
      " 75%|███████▌  | 308/410 [6:35:31<1:32:49, 54.60s/it]"
     ]
    },
    {
     "name": "stderr",
     "output_type": "stream",
     "text": [
      "\r",
      " 75%|███████▌  | 309/410 [6:38:56<2:48:04, 99.85s/it]"
     ]
    },
    {
     "name": "stderr",
     "output_type": "stream",
     "text": [
      "\r",
      " 76%|███████▌  | 310/410 [6:39:13<2:04:52, 74.92s/it]"
     ]
    },
    {
     "name": "stderr",
     "output_type": "stream",
     "text": [
      "\r",
      " 76%|███████▌  | 311/410 [6:40:32<2:05:40, 76.17s/it]"
     ]
    },
    {
     "name": "stderr",
     "output_type": "stream",
     "text": [
      "\r",
      " 76%|███████▌  | 312/410 [6:40:41<1:31:20, 55.92s/it]"
     ]
    },
    {
     "name": "stderr",
     "output_type": "stream",
     "text": [
      "\r",
      " 76%|███████▋  | 313/410 [6:44:02<2:40:44, 99.43s/it]"
     ]
    },
    {
     "name": "stderr",
     "output_type": "stream",
     "text": [
      "\r",
      " 77%|███████▋  | 314/410 [6:44:23<2:01:25, 75.89s/it]"
     ]
    },
    {
     "name": "stderr",
     "output_type": "stream",
     "text": [
      "\r",
      " 77%|███████▋  | 315/410 [6:45:36<1:58:51, 75.07s/it]"
     ]
    },
    {
     "name": "stderr",
     "output_type": "stream",
     "text": [
      "\r",
      " 77%|███████▋  | 316/410 [6:45:49<1:28:35, 56.55s/it]"
     ]
    },
    {
     "name": "stderr",
     "output_type": "stream",
     "text": [
      "\r",
      " 77%|███████▋  | 317/410 [6:49:04<2:31:58, 98.05s/it]"
     ]
    },
    {
     "name": "stderr",
     "output_type": "stream",
     "text": [
      "\r",
      " 78%|███████▊  | 318/410 [6:49:31<1:57:31, 76.65s/it]"
     ]
    },
    {
     "name": "stderr",
     "output_type": "stream",
     "text": [
      "\r",
      " 78%|███████▊  | 319/410 [6:50:40<1:52:43, 74.32s/it]"
     ]
    },
    {
     "name": "stderr",
     "output_type": "stream",
     "text": [
      "\r",
      " 78%|███████▊  | 320/410 [6:50:53<1:24:13, 56.15s/it]"
     ]
    },
    {
     "name": "stderr",
     "output_type": "stream",
     "text": [
      "\r",
      " 78%|███████▊  | 321/410 [6:54:09<2:25:32, 98.12s/it]"
     ]
    },
    {
     "name": "stderr",
     "output_type": "stream",
     "text": [
      "\r",
      " 79%|███████▊  | 322/410 [6:54:35<1:52:02, 76.39s/it]"
     ]
    },
    {
     "name": "stderr",
     "output_type": "stream",
     "text": [
      "\r",
      " 79%|███████▉  | 323/410 [6:55:44<1:47:24, 74.07s/it]"
     ]
    },
    {
     "name": "stderr",
     "output_type": "stream",
     "text": [
      "\r",
      " 79%|███████▉  | 324/410 [6:56:02<1:22:21, 57.46s/it]"
     ]
    },
    {
     "name": "stderr",
     "output_type": "stream",
     "text": [
      "\r",
      " 79%|███████▉  | 325/410 [6:59:14<2:18:18, 97.63s/it]"
     ]
    },
    {
     "name": "stderr",
     "output_type": "stream",
     "text": [
      "\r",
      " 80%|███████▉  | 326/410 [6:59:44<1:48:19, 77.37s/it]"
     ]
    },
    {
     "name": "stderr",
     "output_type": "stream",
     "text": [
      "\r",
      " 80%|███████▉  | 327/410 [7:00:47<1:41:05, 73.08s/it]"
     ]
    },
    {
     "name": "stderr",
     "output_type": "stream",
     "text": [
      "\r",
      " 80%|████████  | 328/410 [7:01:06<1:17:54, 57.01s/it]"
     ]
    },
    {
     "name": "stderr",
     "output_type": "stream",
     "text": [
      "\r",
      " 80%|████████  | 329/410 [7:04:19<2:11:52, 97.68s/it]"
     ]
    },
    {
     "name": "stderr",
     "output_type": "stream",
     "text": [
      "\r",
      " 80%|████████  | 330/410 [7:04:47<1:42:22, 76.78s/it]"
     ]
    },
    {
     "name": "stderr",
     "output_type": "stream",
     "text": [
      "\r",
      " 81%|████████  | 331/410 [7:05:50<1:35:43, 72.70s/it]"
     ]
    },
    {
     "name": "stderr",
     "output_type": "stream",
     "text": [
      "\r",
      " 81%|████████  | 332/410 [7:06:12<1:14:34, 57.36s/it]"
     ]
    },
    {
     "name": "stderr",
     "output_type": "stream",
     "text": [
      "\r",
      " 81%|████████  | 333/410 [7:09:23<2:05:18, 97.64s/it]"
     ]
    },
    {
     "name": "stderr",
     "output_type": "stream",
     "text": [
      "\r",
      " 81%|████████▏ | 334/410 [7:09:54<1:38:02, 77.41s/it]"
     ]
    },
    {
     "name": "stderr",
     "output_type": "stream",
     "text": [
      "\r",
      " 82%|████████▏ | 335/410 [7:10:57<1:31:24, 73.13s/it]"
     ]
    },
    {
     "name": "stderr",
     "output_type": "stream",
     "text": [
      "\r",
      " 82%|████████▏ | 336/410 [7:11:15<1:09:50, 56.63s/it]"
     ]
    },
    {
     "name": "stderr",
     "output_type": "stream",
     "text": [
      "\r",
      " 82%|████████▏ | 337/410 [7:14:26<1:57:50, 96.86s/it]"
     ]
    },
    {
     "name": "stderr",
     "output_type": "stream",
     "text": [
      "\r",
      " 82%|████████▏ | 338/410 [7:15:03<1:34:56, 79.12s/it]"
     ]
    },
    {
     "name": "stderr",
     "output_type": "stream",
     "text": [
      "\r",
      " 83%|████████▎ | 339/410 [7:16:00<1:25:37, 72.36s/it]"
     ]
    },
    {
     "name": "stderr",
     "output_type": "stream",
     "text": [
      "\r",
      " 83%|████████▎ | 340/410 [7:16:24<1:07:34, 57.92s/it]"
     ]
    },
    {
     "name": "stderr",
     "output_type": "stream",
     "text": [
      "\r",
      " 83%|████████▎ | 341/410 [7:19:27<1:49:38, 95.34s/it]"
     ]
    },
    {
     "name": "stderr",
     "output_type": "stream",
     "text": [
      "\r",
      " 83%|████████▎ | 342/410 [7:20:07<1:29:07, 78.64s/it]"
     ]
    },
    {
     "name": "stderr",
     "output_type": "stream",
     "text": [
      "\r",
      " 84%|████████▎ | 343/410 [7:21:02<1:20:04, 71.71s/it]"
     ]
    },
    {
     "name": "stderr",
     "output_type": "stream",
     "text": [
      "\r",
      " 84%|████████▍ | 344/410 [7:21:31<1:04:53, 58.99s/it]"
     ]
    },
    {
     "name": "stderr",
     "output_type": "stream",
     "text": [
      "\r",
      " 84%|████████▍ | 345/410 [7:24:33<1:43:38, 95.67s/it]"
     ]
    },
    {
     "name": "stderr",
     "output_type": "stream",
     "text": [
      "\r",
      " 84%|████████▍ | 346/410 [7:25:11<1:23:45, 78.52s/it]"
     ]
    },
    {
     "name": "stderr",
     "output_type": "stream",
     "text": [
      "\r",
      " 85%|████████▍ | 347/410 [7:26:11<1:16:43, 73.07s/it]"
     ]
    },
    {
     "name": "stderr",
     "output_type": "stream",
     "text": [
      "\r",
      " 85%|████████▍ | 348/410 [7:26:39<1:01:18, 59.33s/it]"
     ]
    },
    {
     "name": "stderr",
     "output_type": "stream",
     "text": [
      "\r",
      " 85%|████████▌ | 349/410 [7:29:35<1:36:07, 94.55s/it]"
     ]
    },
    {
     "name": "stderr",
     "output_type": "stream",
     "text": [
      "\r",
      " 85%|████████▌ | 350/410 [7:30:16<1:18:17, 78.29s/it]"
     ]
    },
    {
     "name": "stderr",
     "output_type": "stream",
     "text": [
      "\r",
      " 86%|████████▌ | 351/410 [7:31:24<1:13:53, 75.15s/it]"
     ]
    },
    {
     "name": "stderr",
     "output_type": "stream",
     "text": [
      "\r",
      " 86%|████████▌ | 352/410 [7:31:44<56:38, 58.60s/it]  "
     ]
    },
    {
     "name": "stderr",
     "output_type": "stream",
     "text": [
      "\r",
      " 86%|████████▌ | 353/410 [7:34:36<1:28:11, 92.83s/it]"
     ]
    },
    {
     "name": "stderr",
     "output_type": "stream",
     "text": [
      "\r",
      " 86%|████████▋ | 354/410 [7:35:19<1:12:41, 77.89s/it]"
     ]
    },
    {
     "name": "stderr",
     "output_type": "stream",
     "text": [
      "\r",
      " 87%|████████▋ | 355/410 [7:36:33<1:10:15, 76.64s/it]"
     ]
    },
    {
     "name": "stderr",
     "output_type": "stream",
     "text": [
      "\r",
      " 87%|████████▋ | 356/410 [7:36:46<51:39, 57.40s/it]  "
     ]
    },
    {
     "name": "stderr",
     "output_type": "stream",
     "text": [
      "\r",
      " 87%|████████▋ | 357/410 [7:39:40<1:21:42, 92.49s/it]"
     ]
    },
    {
     "name": "stderr",
     "output_type": "stream",
     "text": [
      "\r",
      " 87%|████████▋ | 358/410 [7:40:21<1:06:54, 77.20s/it]"
     ]
    },
    {
     "name": "stderr",
     "output_type": "stream",
     "text": [
      "\r",
      " 88%|████████▊ | 359/410 [7:41:45<1:07:10, 79.03s/it]"
     ]
    },
    {
     "name": "stderr",
     "output_type": "stream",
     "text": [
      "\r",
      " 88%|████████▊ | 360/410 [7:41:48<46:56, 56.34s/it]  "
     ]
    },
    {
     "name": "stderr",
     "output_type": "stream",
     "text": [
      "\r",
      " 88%|████████▊ | 361/410 [7:44:46<1:15:49, 92.84s/it]"
     ]
    },
    {
     "name": "stderr",
     "output_type": "stream",
     "text": [
      "\r",
      " 88%|████████▊ | 362/410 [7:45:29<1:02:16, 77.84s/it]"
     ]
    },
    {
     "name": "stderr",
     "output_type": "stream",
     "text": [
      "\r",
      " 89%|████████▊ | 363/410 [7:46:50<1:01:42, 78.78s/it]"
     ]
    },
    {
     "name": "stderr",
     "output_type": "stream",
     "text": [
      "\r",
      " 89%|████████▉ | 364/410 [7:46:53<42:56, 56.02s/it]  "
     ]
    },
    {
     "name": "stderr",
     "output_type": "stream",
     "text": [
      "\r",
      " 89%|████████▉ | 365/410 [7:49:48<1:08:49, 91.77s/it]"
     ]
    },
    {
     "name": "stderr",
     "output_type": "stream",
     "text": [
      "\r",
      " 89%|████████▉ | 366/410 [7:50:31<56:37, 77.21s/it]  "
     ]
    },
    {
     "name": "stderr",
     "output_type": "stream",
     "text": [
      "\r",
      " 90%|████████▉ | 367/410 [7:51:53<56:23, 78.68s/it]"
     ]
    },
    {
     "name": "stderr",
     "output_type": "stream",
     "text": [
      "\r",
      " 90%|████████▉ | 368/410 [7:51:55<38:51, 55.51s/it]"
     ]
    },
    {
     "name": "stderr",
     "output_type": "stream",
     "text": [
      "\r",
      " 90%|█████████ | 369/410 [7:54:52<1:02:57, 92.12s/it]"
     ]
    },
    {
     "name": "stderr",
     "output_type": "stream",
     "text": [
      "\r",
      " 90%|█████████ | 370/410 [7:55:38<52:02, 78.06s/it]  "
     ]
    },
    {
     "name": "stderr",
     "output_type": "stream",
     "text": [
      "\r",
      " 90%|█████████ | 371/410 [7:56:57<50:54, 78.32s/it]"
     ]
    },
    {
     "name": "stderr",
     "output_type": "stream",
     "text": [
      "\r",
      " 91%|█████████ | 372/410 [7:57:01<35:37, 56.25s/it]"
     ]
    },
    {
     "name": "stderr",
     "output_type": "stream",
     "text": [
      "\r",
      " 91%|█████████ | 373/410 [7:59:54<56:13, 91.18s/it]"
     ]
    },
    {
     "name": "stderr",
     "output_type": "stream",
     "text": [
      "\r",
      " 91%|█████████ | 374/410 [8:00:40<46:38, 77.74s/it]"
     ]
    },
    {
     "name": "stderr",
     "output_type": "stream",
     "text": [
      "\r",
      " 91%|█████████▏| 375/410 [8:01:59<45:26, 77.89s/it]"
     ]
    },
    {
     "name": "stderr",
     "output_type": "stream",
     "text": [
      "\r",
      " 92%|█████████▏| 376/410 [8:02:11<32:58, 58.18s/it]"
     ]
    },
    {
     "name": "stderr",
     "output_type": "stream",
     "text": [
      "\r",
      " 92%|█████████▏| 377/410 [8:05:00<50:14, 91.36s/it]"
     ]
    },
    {
     "name": "stderr",
     "output_type": "stream",
     "text": [
      "\r",
      " 92%|█████████▏| 378/410 [8:05:43<41:03, 76.98s/it]"
     ]
    },
    {
     "name": "stderr",
     "output_type": "stream",
     "text": [
      "\r",
      " 92%|█████████▏| 379/410 [8:07:04<40:24, 78.21s/it]"
     ]
    },
    {
     "name": "stderr",
     "output_type": "stream",
     "text": [
      "\r",
      " 93%|█████████▎| 380/410 [8:07:12<28:32, 57.08s/it]"
     ]
    },
    {
     "name": "stderr",
     "output_type": "stream",
     "text": [
      "\r",
      " 93%|█████████▎| 381/410 [8:10:03<44:06, 91.25s/it]"
     ]
    },
    {
     "name": "stderr",
     "output_type": "stream",
     "text": [
      "\r",
      " 93%|█████████▎| 382/410 [8:10:46<35:48, 76.75s/it]"
     ]
    },
    {
     "name": "stderr",
     "output_type": "stream",
     "text": [
      "\r",
      " 93%|█████████▎| 383/410 [8:12:07<35:04, 77.94s/it]"
     ]
    },
    {
     "name": "stderr",
     "output_type": "stream",
     "text": [
      "\r",
      " 94%|█████████▎| 384/410 [8:12:18<25:04, 57.86s/it]"
     ]
    },
    {
     "name": "stderr",
     "output_type": "stream",
     "text": [
      "\r",
      " 94%|█████████▍| 385/410 [8:15:04<37:43, 90.53s/it]"
     ]
    },
    {
     "name": "stderr",
     "output_type": "stream",
     "text": [
      "\r",
      " 94%|█████████▍| 386/410 [8:15:47<30:29, 76.24s/it]"
     ]
    },
    {
     "name": "stderr",
     "output_type": "stream",
     "text": [
      "\r",
      " 94%|█████████▍| 387/410 [8:17:08<29:46, 77.67s/it]"
     ]
    },
    {
     "name": "stderr",
     "output_type": "stream",
     "text": [
      "\r",
      " 95%|█████████▍| 388/410 [8:17:23<21:31, 58.72s/it]"
     ]
    },
    {
     "name": "stderr",
     "output_type": "stream",
     "text": [
      "\r",
      " 95%|█████████▍| 389/410 [8:20:10<32:00, 91.43s/it]"
     ]
    },
    {
     "name": "stderr",
     "output_type": "stream",
     "text": [
      "\r",
      " 95%|█████████▌| 390/410 [8:20:47<24:59, 74.98s/it]"
     ]
    },
    {
     "name": "stderr",
     "output_type": "stream",
     "text": [
      "\r",
      " 95%|█████████▌| 391/410 [8:22:12<24:39, 77.86s/it]"
     ]
    },
    {
     "name": "stderr",
     "output_type": "stream",
     "text": [
      "\r",
      " 96%|█████████▌| 392/410 [8:22:24<17:27, 58.19s/it]"
     ]
    },
    {
     "name": "stderr",
     "output_type": "stream",
     "text": [
      "\r",
      " 96%|█████████▌| 393/410 [8:25:06<25:20, 89.46s/it]"
     ]
    },
    {
     "name": "stderr",
     "output_type": "stream",
     "text": [
      "\r",
      " 96%|█████████▌| 394/410 [8:25:47<19:54, 74.68s/it]"
     ]
    },
    {
     "name": "stderr",
     "output_type": "stream",
     "text": [
      "\r",
      " 96%|█████████▋| 395/410 [8:27:10<19:17, 77.16s/it]"
     ]
    },
    {
     "name": "stderr",
     "output_type": "stream",
     "text": [
      "\r",
      " 97%|█████████▋| 396/410 [8:27:22<13:26, 57.61s/it]"
     ]
    },
    {
     "name": "stderr",
     "output_type": "stream",
     "text": [
      "\r",
      " 97%|█████████▋| 397/410 [8:30:03<19:14, 88.82s/it]"
     ]
    },
    {
     "name": "stderr",
     "output_type": "stream",
     "text": [
      "\r",
      " 97%|█████████▋| 398/410 [8:30:43<14:48, 74.01s/it]"
     ]
    },
    {
     "name": "stderr",
     "output_type": "stream",
     "text": [
      "\r",
      " 97%|█████████▋| 399/410 [8:32:08<14:12, 77.49s/it]"
     ]
    },
    {
     "name": "stderr",
     "output_type": "stream",
     "text": [
      "\r",
      " 98%|█████████▊| 400/410 [8:32:21<09:40, 58.03s/it]"
     ]
    },
    {
     "name": "stderr",
     "output_type": "stream",
     "text": [
      "\r",
      " 98%|█████████▊| 401/410 [8:34:59<13:13, 88.21s/it]"
     ]
    },
    {
     "name": "stderr",
     "output_type": "stream",
     "text": [
      "\r",
      " 98%|█████████▊| 402/410 [8:35:36<09:41, 72.73s/it]"
     ]
    },
    {
     "name": "stderr",
     "output_type": "stream",
     "text": [
      "\r",
      " 98%|█████████▊| 403/410 [8:37:04<09:01, 77.32s/it]"
     ]
    },
    {
     "name": "stderr",
     "output_type": "stream",
     "text": [
      "\r",
      " 99%|█████████▊| 404/410 [8:37:25<06:01, 60.27s/it]"
     ]
    },
    {
     "name": "stderr",
     "output_type": "stream",
     "text": [
      "\r",
      " 99%|█████████▉| 405/410 [8:40:05<07:31, 90.25s/it]"
     ]
    },
    {
     "name": "stderr",
     "output_type": "stream",
     "text": [
      "\r",
      " 99%|█████████▉| 406/410 [8:40:41<04:56, 74.08s/it]"
     ]
    },
    {
     "name": "stderr",
     "output_type": "stream",
     "text": [
      "\r",
      " 99%|█████████▉| 407/410 [8:41:14<03:04, 61.59s/it]"
     ]
    },
    {
     "name": "stderr",
     "output_type": "stream",
     "text": [
      "\r",
      "100%|█████████▉| 408/410 [8:42:16<02:03, 61.80s/it]"
     ]
    },
    {
     "name": "stderr",
     "output_type": "stream",
     "text": [
      "\r",
      "100%|█████████▉| 409/410 [8:42:32<00:48, 48.23s/it]"
     ]
    },
    {
     "name": "stderr",
     "output_type": "stream",
     "text": [
      "\r",
      "100%|██████████| 410/410 [8:44:45<00:00, 73.52s/it]"
     ]
    },
    {
     "name": "stderr",
     "output_type": "stream",
     "text": [
      "\r",
      "100%|██████████| 410/410 [8:44:45<00:00, 76.79s/it]"
     ]
    },
    {
     "name": "stderr",
     "output_type": "stream",
     "text": [
      "\n"
     ]
    }
   ],
   "source": [
    "all_results = _run_all(phenotype_chunks, n_jobs=conf.N_JOBS_HIGH)"
   ]
  },
  {
   "cell_type": "code",
   "execution_count": 15,
   "metadata": {
    "papermill": {
     "duration": 0.105806,
     "end_time": "2020-08-20T03:41:01.400431",
     "exception": false,
     "start_time": "2020-08-20T03:41:01.294625",
     "status": "completed"
    },
    "tags": []
   },
   "outputs": [
    {
     "data": {
      "text/plain": [
       "4091"
      ]
     },
     "execution_count": 15,
     "metadata": {},
     "output_type": "execute_result"
    }
   ],
   "source": [
    "len(all_results)"
   ]
  },
  {
   "cell_type": "markdown",
   "metadata": {
    "papermill": {
     "duration": 0.089797,
     "end_time": "2020-08-20T03:41:01.581126",
     "exception": false,
     "start_time": "2020-08-20T03:41:01.491329",
     "status": "completed"
    },
    "tags": []
   },
   "source": [
    "### Create DataFrame"
   ]
  },
  {
   "cell_type": "code",
   "execution_count": 16,
   "metadata": {
    "papermill": {
     "duration": 0.103798,
     "end_time": "2020-08-20T03:41:01.775080",
     "exception": false,
     "start_time": "2020-08-20T03:41:01.671282",
     "status": "completed"
    },
    "tags": []
   },
   "outputs": [
    {
     "data": {
      "text/plain": [
       "4091"
      ]
     },
     "metadata": {},
     "output_type": "display_data"
    }
   ],
   "source": [
    "_n_expected_phenos = np.sum(list(conf.SMULTIXCAN_EXPECTED_PHENOTYPES.values()))\n",
    "display(_n_expected_phenos)\n",
    "assert len(all_results) == _n_expected_phenos, len(all_results)"
   ]
  },
  {
   "cell_type": "code",
   "execution_count": 17,
   "metadata": {
    "papermill": {
     "duration": 8.867531,
     "end_time": "2020-08-20T03:41:10.733257",
     "exception": false,
     "start_time": "2020-08-20T03:41:01.865726",
     "status": "completed"
    },
    "tags": []
   },
   "outputs": [
    {
     "data": {
      "text/plain": [
       "(22518, 4091)"
      ]
     },
     "metadata": {},
     "output_type": "display_data"
    },
    {
     "data": {
      "text/html": [
       "<div>\n",
       "<style scoped>\n",
       "    .dataframe tbody tr th:only-of-type {\n",
       "        vertical-align: middle;\n",
       "    }\n",
       "\n",
       "    .dataframe tbody tr th {\n",
       "        vertical-align: top;\n",
       "    }\n",
       "\n",
       "    .dataframe thead th {\n",
       "        text-align: right;\n",
       "    }\n",
       "</style>\n",
       "<table border=\"1\" class=\"dataframe\">\n",
       "  <thead>\n",
       "    <tr style=\"text-align: right;\">\n",
       "      <th></th>\n",
       "      <th>R60-Diagnoses_main_ICD10_R60_Oedema_not_elsewhere_classified</th>\n",
       "      <th>ULCEROTH-Other_ulcerative_colitis</th>\n",
       "      <th>20002_1161-Noncancer_illness_code_selfreported_gall_bladder_disease</th>\n",
       "      <th>22601_31152695-Job_coding_quality_assurance_techniciancoordinator</th>\n",
       "      <th>20003_1140860696-Treatmentmedication_code_lisinopril</th>\n",
       "      <th>D50-Diagnoses_main_ICD10_D50_Iron_deficiency_anaemia</th>\n",
       "      <th>1160-Sleep_duration</th>\n",
       "      <th>20002_1457-Noncancer_illness_code_selfreported_duodenal_ulcer</th>\n",
       "      <th>22660_106-Gap_coding_Unable_to_work_due_to_sickness_or_disability</th>\n",
       "      <th>22601_35333266-Job_coding_insurance_underwriter_insurance_inspector_insurance_account_handler</th>\n",
       "      <th>...</th>\n",
       "      <th>IBD.EUR.Ulcerative_Colitis</th>\n",
       "      <th>Astle_et_al_2016_Sum_basophil_neutrophil_counts</th>\n",
       "      <th>Astle_et_al_2016_Reticulocyte_count</th>\n",
       "      <th>RA_OKADA_TRANS_ETHNIC</th>\n",
       "      <th>GEFOS_Forearm</th>\n",
       "      <th>Jones_et_al_2016_SleepDuration</th>\n",
       "      <th>EAGLE_Eczema</th>\n",
       "      <th>IBD.EUR.Crohns_Disease</th>\n",
       "      <th>IMMUNOBASE_Systemic_lupus_erythematosus_hg19</th>\n",
       "      <th>Astle_et_al_2016_Myeloid_white_cell_count</th>\n",
       "    </tr>\n",
       "    <tr>\n",
       "      <th>gene_name</th>\n",
       "      <th></th>\n",
       "      <th></th>\n",
       "      <th></th>\n",
       "      <th></th>\n",
       "      <th></th>\n",
       "      <th></th>\n",
       "      <th></th>\n",
       "      <th></th>\n",
       "      <th></th>\n",
       "      <th></th>\n",
       "      <th></th>\n",
       "      <th></th>\n",
       "      <th></th>\n",
       "      <th></th>\n",
       "      <th></th>\n",
       "      <th></th>\n",
       "      <th></th>\n",
       "      <th></th>\n",
       "      <th></th>\n",
       "      <th></th>\n",
       "      <th></th>\n",
       "    </tr>\n",
       "  </thead>\n",
       "  <tbody>\n",
       "    <tr>\n",
       "      <th>ENSG00000000419</th>\n",
       "      <td>NaN</td>\n",
       "      <td>NaN</td>\n",
       "      <td>NaN</td>\n",
       "      <td>NaN</td>\n",
       "      <td>NaN</td>\n",
       "      <td>NaN</td>\n",
       "      <td>NaN</td>\n",
       "      <td>NaN</td>\n",
       "      <td>NaN</td>\n",
       "      <td>NaN</td>\n",
       "      <td>...</td>\n",
       "      <td>NaN</td>\n",
       "      <td>NaN</td>\n",
       "      <td>NaN</td>\n",
       "      <td>NaN</td>\n",
       "      <td>NaN</td>\n",
       "      <td>NaN</td>\n",
       "      <td>NaN</td>\n",
       "      <td>NaN</td>\n",
       "      <td>NaN</td>\n",
       "      <td>NaN</td>\n",
       "    </tr>\n",
       "    <tr>\n",
       "      <th>ENSG00000000457</th>\n",
       "      <td>NaN</td>\n",
       "      <td>NaN</td>\n",
       "      <td>NaN</td>\n",
       "      <td>NaN</td>\n",
       "      <td>NaN</td>\n",
       "      <td>NaN</td>\n",
       "      <td>NaN</td>\n",
       "      <td>NaN</td>\n",
       "      <td>NaN</td>\n",
       "      <td>NaN</td>\n",
       "      <td>...</td>\n",
       "      <td>NaN</td>\n",
       "      <td>NaN</td>\n",
       "      <td>NaN</td>\n",
       "      <td>NaN</td>\n",
       "      <td>NaN</td>\n",
       "      <td>NaN</td>\n",
       "      <td>NaN</td>\n",
       "      <td>NaN</td>\n",
       "      <td>NaN</td>\n",
       "      <td>NaN</td>\n",
       "    </tr>\n",
       "    <tr>\n",
       "      <th>ENSG00000000460</th>\n",
       "      <td>NaN</td>\n",
       "      <td>NaN</td>\n",
       "      <td>NaN</td>\n",
       "      <td>NaN</td>\n",
       "      <td>NaN</td>\n",
       "      <td>NaN</td>\n",
       "      <td>NaN</td>\n",
       "      <td>NaN</td>\n",
       "      <td>NaN</td>\n",
       "      <td>NaN</td>\n",
       "      <td>...</td>\n",
       "      <td>NaN</td>\n",
       "      <td>NaN</td>\n",
       "      <td>NaN</td>\n",
       "      <td>NaN</td>\n",
       "      <td>NaN</td>\n",
       "      <td>NaN</td>\n",
       "      <td>NaN</td>\n",
       "      <td>NaN</td>\n",
       "      <td>NaN</td>\n",
       "      <td>NaN</td>\n",
       "    </tr>\n",
       "    <tr>\n",
       "      <th>ENSG00000000938</th>\n",
       "      <td>NaN</td>\n",
       "      <td>NaN</td>\n",
       "      <td>NaN</td>\n",
       "      <td>NaN</td>\n",
       "      <td>NaN</td>\n",
       "      <td>NaN</td>\n",
       "      <td>NaN</td>\n",
       "      <td>NaN</td>\n",
       "      <td>NaN</td>\n",
       "      <td>NaN</td>\n",
       "      <td>...</td>\n",
       "      <td>NaN</td>\n",
       "      <td>NaN</td>\n",
       "      <td>NaN</td>\n",
       "      <td>NaN</td>\n",
       "      <td>NaN</td>\n",
       "      <td>NaN</td>\n",
       "      <td>NaN</td>\n",
       "      <td>NaN</td>\n",
       "      <td>NaN</td>\n",
       "      <td>NaN</td>\n",
       "    </tr>\n",
       "    <tr>\n",
       "      <th>ENSG00000000971</th>\n",
       "      <td>NaN</td>\n",
       "      <td>NaN</td>\n",
       "      <td>NaN</td>\n",
       "      <td>NaN</td>\n",
       "      <td>NaN</td>\n",
       "      <td>NaN</td>\n",
       "      <td>NaN</td>\n",
       "      <td>NaN</td>\n",
       "      <td>NaN</td>\n",
       "      <td>NaN</td>\n",
       "      <td>...</td>\n",
       "      <td>NaN</td>\n",
       "      <td>NaN</td>\n",
       "      <td>NaN</td>\n",
       "      <td>NaN</td>\n",
       "      <td>1.0</td>\n",
       "      <td>NaN</td>\n",
       "      <td>NaN</td>\n",
       "      <td>NaN</td>\n",
       "      <td>NaN</td>\n",
       "      <td>NaN</td>\n",
       "    </tr>\n",
       "  </tbody>\n",
       "</table>\n",
       "<p>5 rows × 4091 columns</p>\n",
       "</div>"
      ],
      "text/plain": [
       "                R60-Diagnoses_main_ICD10_R60_Oedema_not_elsewhere_classified  \\\n",
       "gene_name                                                                      \n",
       "ENSG00000000419                                                NaN             \n",
       "ENSG00000000457                                                NaN             \n",
       "ENSG00000000460                                                NaN             \n",
       "ENSG00000000938                                                NaN             \n",
       "ENSG00000000971                                                NaN             \n",
       "\n",
       "                ULCEROTH-Other_ulcerative_colitis  \\\n",
       "gene_name                                           \n",
       "ENSG00000000419                               NaN   \n",
       "ENSG00000000457                               NaN   \n",
       "ENSG00000000460                               NaN   \n",
       "ENSG00000000938                               NaN   \n",
       "ENSG00000000971                               NaN   \n",
       "\n",
       "                20002_1161-Noncancer_illness_code_selfreported_gall_bladder_disease  \\\n",
       "gene_name                                                                             \n",
       "ENSG00000000419                                                NaN                    \n",
       "ENSG00000000457                                                NaN                    \n",
       "ENSG00000000460                                                NaN                    \n",
       "ENSG00000000938                                                NaN                    \n",
       "ENSG00000000971                                                NaN                    \n",
       "\n",
       "                22601_31152695-Job_coding_quality_assurance_techniciancoordinator  \\\n",
       "gene_name                                                                           \n",
       "ENSG00000000419                                                NaN                  \n",
       "ENSG00000000457                                                NaN                  \n",
       "ENSG00000000460                                                NaN                  \n",
       "ENSG00000000938                                                NaN                  \n",
       "ENSG00000000971                                                NaN                  \n",
       "\n",
       "                20003_1140860696-Treatmentmedication_code_lisinopril  \\\n",
       "gene_name                                                              \n",
       "ENSG00000000419                                                NaN     \n",
       "ENSG00000000457                                                NaN     \n",
       "ENSG00000000460                                                NaN     \n",
       "ENSG00000000938                                                NaN     \n",
       "ENSG00000000971                                                NaN     \n",
       "\n",
       "                D50-Diagnoses_main_ICD10_D50_Iron_deficiency_anaemia  \\\n",
       "gene_name                                                              \n",
       "ENSG00000000419                                                NaN     \n",
       "ENSG00000000457                                                NaN     \n",
       "ENSG00000000460                                                NaN     \n",
       "ENSG00000000938                                                NaN     \n",
       "ENSG00000000971                                                NaN     \n",
       "\n",
       "                1160-Sleep_duration  \\\n",
       "gene_name                             \n",
       "ENSG00000000419                 NaN   \n",
       "ENSG00000000457                 NaN   \n",
       "ENSG00000000460                 NaN   \n",
       "ENSG00000000938                 NaN   \n",
       "ENSG00000000971                 NaN   \n",
       "\n",
       "                20002_1457-Noncancer_illness_code_selfreported_duodenal_ulcer  \\\n",
       "gene_name                                                                       \n",
       "ENSG00000000419                                                NaN              \n",
       "ENSG00000000457                                                NaN              \n",
       "ENSG00000000460                                                NaN              \n",
       "ENSG00000000938                                                NaN              \n",
       "ENSG00000000971                                                NaN              \n",
       "\n",
       "                22660_106-Gap_coding_Unable_to_work_due_to_sickness_or_disability  \\\n",
       "gene_name                                                                           \n",
       "ENSG00000000419                                                NaN                  \n",
       "ENSG00000000457                                                NaN                  \n",
       "ENSG00000000460                                                NaN                  \n",
       "ENSG00000000938                                                NaN                  \n",
       "ENSG00000000971                                                NaN                  \n",
       "\n",
       "                22601_35333266-Job_coding_insurance_underwriter_insurance_inspector_insurance_account_handler  \\\n",
       "gene_name                                                                                                       \n",
       "ENSG00000000419                                                NaN                                              \n",
       "ENSG00000000457                                                NaN                                              \n",
       "ENSG00000000460                                                NaN                                              \n",
       "ENSG00000000938                                                NaN                                              \n",
       "ENSG00000000971                                                NaN                                              \n",
       "\n",
       "                 ... IBD.EUR.Ulcerative_Colitis  \\\n",
       "gene_name        ...                              \n",
       "ENSG00000000419  ...                        NaN   \n",
       "ENSG00000000457  ...                        NaN   \n",
       "ENSG00000000460  ...                        NaN   \n",
       "ENSG00000000938  ...                        NaN   \n",
       "ENSG00000000971  ...                        NaN   \n",
       "\n",
       "                Astle_et_al_2016_Sum_basophil_neutrophil_counts  \\\n",
       "gene_name                                                         \n",
       "ENSG00000000419                                             NaN   \n",
       "ENSG00000000457                                             NaN   \n",
       "ENSG00000000460                                             NaN   \n",
       "ENSG00000000938                                             NaN   \n",
       "ENSG00000000971                                             NaN   \n",
       "\n",
       "                Astle_et_al_2016_Reticulocyte_count RA_OKADA_TRANS_ETHNIC  \\\n",
       "gene_name                                                                   \n",
       "ENSG00000000419                                 NaN                   NaN   \n",
       "ENSG00000000457                                 NaN                   NaN   \n",
       "ENSG00000000460                                 NaN                   NaN   \n",
       "ENSG00000000938                                 NaN                   NaN   \n",
       "ENSG00000000971                                 NaN                   NaN   \n",
       "\n",
       "                GEFOS_Forearm Jones_et_al_2016_SleepDuration EAGLE_Eczema  \\\n",
       "gene_name                                                                   \n",
       "ENSG00000000419           NaN                            NaN          NaN   \n",
       "ENSG00000000457           NaN                            NaN          NaN   \n",
       "ENSG00000000460           NaN                            NaN          NaN   \n",
       "ENSG00000000938           NaN                            NaN          NaN   \n",
       "ENSG00000000971           1.0                            NaN          NaN   \n",
       "\n",
       "                IBD.EUR.Crohns_Disease  \\\n",
       "gene_name                                \n",
       "ENSG00000000419                    NaN   \n",
       "ENSG00000000457                    NaN   \n",
       "ENSG00000000460                    NaN   \n",
       "ENSG00000000938                    NaN   \n",
       "ENSG00000000971                    NaN   \n",
       "\n",
       "                IMMUNOBASE_Systemic_lupus_erythematosus_hg19  \\\n",
       "gene_name                                                      \n",
       "ENSG00000000419                                          NaN   \n",
       "ENSG00000000457                                          NaN   \n",
       "ENSG00000000460                                          NaN   \n",
       "ENSG00000000938                                          NaN   \n",
       "ENSG00000000971                                          NaN   \n",
       "\n",
       "                Astle_et_al_2016_Myeloid_white_cell_count  \n",
       "gene_name                                                  \n",
       "ENSG00000000419                                       NaN  \n",
       "ENSG00000000457                                       NaN  \n",
       "ENSG00000000460                                       NaN  \n",
       "ENSG00000000938                                       NaN  \n",
       "ENSG00000000971                                       NaN  \n",
       "\n",
       "[5 rows x 4091 columns]"
      ]
     },
     "metadata": {},
     "output_type": "display_data"
    }
   ],
   "source": [
    "# the category dtype is for efficiency in storage/loading\n",
    "spredixcan_genes_effect_directions = pd.DataFrame(all_results, dtype='category')\n",
    "spredixcan_genes_effect_directions.index.rename('gene_name', inplace=True)\n",
    "\n",
    "assert spredixcan_genes_effect_directions.index.is_unique\n",
    "\n",
    "display(spredixcan_genes_effect_directions.shape)\n",
    "display(spredixcan_genes_effect_directions.head())"
   ]
  },
  {
   "cell_type": "code",
   "execution_count": 18,
   "metadata": {
    "papermill": {
     "duration": 0.103048,
     "end_time": "2020-08-20T03:41:10.929172",
     "exception": false,
     "start_time": "2020-08-20T03:41:10.826124",
     "status": "completed"
    },
    "tags": []
   },
   "outputs": [],
   "source": [
    "# For this method we should not remove nans\n",
    "# Remove genes with no results\n",
    "#spredixcan_genes_effect_directions = spredixcan_genes_effect_directions.dropna(axis=0, how='all')"
   ]
  },
  {
   "cell_type": "code",
   "execution_count": 19,
   "metadata": {
    "papermill": {
     "duration": 1.3267,
     "end_time": "2020-08-20T03:41:12.346932",
     "exception": false,
     "start_time": "2020-08-20T03:41:11.020232",
     "status": "completed"
    },
    "tags": []
   },
   "outputs": [
    {
     "data": {
      "text/plain": [
       "91634228"
      ]
     },
     "execution_count": 19,
     "metadata": {},
     "output_type": "execute_result"
    }
   ],
   "source": [
    "# how many entries are nan\n",
    "spredixcan_genes_effect_directions.isna().sum().sum()"
   ]
  },
  {
   "cell_type": "code",
   "execution_count": 20,
   "metadata": {
    "papermill": {
     "duration": 28.985234,
     "end_time": "2020-08-20T03:41:41.423794",
     "exception": false,
     "start_time": "2020-08-20T03:41:12.438560",
     "status": "completed"
    },
    "tags": []
   },
   "outputs": [
    {
     "data": {
      "text/plain": [
       "array([-1.,  1.,  0.])"
      ]
     },
     "metadata": {},
     "output_type": "display_data"
    }
   ],
   "source": [
    "_tmp = pd.Series(spredixcan_genes_effect_directions.values.flatten()).dropna().astype(float).unique()\n",
    "display(_tmp)\n",
    "assert set(_tmp) == set([0, 1, -1]), set(_tmp)"
   ]
  },
  {
   "cell_type": "code",
   "execution_count": 21,
   "metadata": {
    "papermill": {
     "duration": 0.105653,
     "end_time": "2020-08-20T03:41:41.622270",
     "exception": false,
     "start_time": "2020-08-20T03:41:41.516617",
     "status": "completed"
    },
    "tags": []
   },
   "outputs": [
    {
     "data": {
      "text/plain": [
       "'Results shape: (22518, 4091)'"
      ]
     },
     "metadata": {},
     "output_type": "display_data"
    }
   ],
   "source": [
    "display(f'Results shape: {spredixcan_genes_effect_directions.shape}')\n",
    "\n",
    "assert spredixcan_genes_effect_directions.shape == (22518, _n_expected_phenos), spredixcan_genes_effect_directions.shape"
   ]
  },
  {
   "cell_type": "markdown",
   "metadata": {
    "papermill": {
     "duration": 0.090777,
     "end_time": "2020-08-20T03:41:41.804314",
     "exception": false,
     "start_time": "2020-08-20T03:41:41.713537",
     "status": "completed"
    },
    "tags": []
   },
   "source": [
    "## Testing"
   ]
  },
  {
   "cell_type": "code",
   "execution_count": 22,
   "metadata": {
    "papermill": {
     "duration": 0.102474,
     "end_time": "2020-08-20T03:41:41.998185",
     "exception": false,
     "start_time": "2020-08-20T03:41:41.895711",
     "status": "completed"
    },
    "tags": []
   },
   "outputs": [],
   "source": [
    "# _tmp.loc['CNCR_Insomnia_all'].sort_values(ascending=False).head()\n",
    "\n",
    "# _tmp = all_spredixcan_phenotypes[2]\n",
    "\n",
    "# _tmp.pheno_info.get_plain_name()\n",
    "\n",
    "# data_dict = {t:_tmp.get_tissue_data(t, 'zscore', index_col='gene_simple') for t in _tmp.tissues}\n",
    "\n",
    "# data = pd.DataFrame(data_dict)\n",
    "\n",
    "# data.max(axis=1).sort_values()"
   ]
  },
  {
   "cell_type": "code",
   "execution_count": 23,
   "metadata": {
    "papermill": {
     "duration": 0.136602,
     "end_time": "2020-08-20T03:41:42.226337",
     "exception": false,
     "start_time": "2020-08-20T03:41:42.089735",
     "status": "completed"
    },
    "tags": []
   },
   "outputs": [
    {
     "data": {
      "text/html": [
       "<div>\n",
       "<style scoped>\n",
       "    .dataframe tbody tr th:only-of-type {\n",
       "        vertical-align: middle;\n",
       "    }\n",
       "\n",
       "    .dataframe tbody tr th {\n",
       "        vertical-align: top;\n",
       "    }\n",
       "\n",
       "    .dataframe thead th {\n",
       "        text-align: right;\n",
       "    }\n",
       "</style>\n",
       "<table border=\"1\" class=\"dataframe\">\n",
       "  <thead>\n",
       "    <tr style=\"text-align: right;\">\n",
       "      <th></th>\n",
       "      <th>6157_3-Why_stopped_smoking_Health_precaution</th>\n",
       "      <th>I50-Diagnoses_main_ICD10_I50_Heart_failure</th>\n",
       "      <th>CNCR_Insomnia_all</th>\n",
       "    </tr>\n",
       "    <tr>\n",
       "      <th>gene_name</th>\n",
       "      <th></th>\n",
       "      <th></th>\n",
       "      <th></th>\n",
       "    </tr>\n",
       "  </thead>\n",
       "  <tbody>\n",
       "    <tr>\n",
       "      <th>ENSG00000137185</th>\n",
       "      <td>-1.0</td>\n",
       "      <td>NaN</td>\n",
       "      <td>NaN</td>\n",
       "    </tr>\n",
       "    <tr>\n",
       "      <th>ENSG00000000457</th>\n",
       "      <td>NaN</td>\n",
       "      <td>NaN</td>\n",
       "      <td>NaN</td>\n",
       "    </tr>\n",
       "    <tr>\n",
       "      <th>ENSG00000095464</th>\n",
       "      <td>NaN</td>\n",
       "      <td>1.0</td>\n",
       "      <td>NaN</td>\n",
       "    </tr>\n",
       "    <tr>\n",
       "      <th>ENSG00000228397</th>\n",
       "      <td>NaN</td>\n",
       "      <td>NaN</td>\n",
       "      <td>1.0</td>\n",
       "    </tr>\n",
       "    <tr>\n",
       "      <th>ENSG00000279325</th>\n",
       "      <td>NaN</td>\n",
       "      <td>NaN</td>\n",
       "      <td>-1.0</td>\n",
       "    </tr>\n",
       "    <tr>\n",
       "      <th>ENSG00000000419</th>\n",
       "      <td>NaN</td>\n",
       "      <td>NaN</td>\n",
       "      <td>NaN</td>\n",
       "    </tr>\n",
       "  </tbody>\n",
       "</table>\n",
       "</div>"
      ],
      "text/plain": [
       "                6157_3-Why_stopped_smoking_Health_precaution  \\\n",
       "gene_name                                                      \n",
       "ENSG00000137185                                         -1.0   \n",
       "ENSG00000000457                                          NaN   \n",
       "ENSG00000095464                                          NaN   \n",
       "ENSG00000228397                                          NaN   \n",
       "ENSG00000279325                                          NaN   \n",
       "ENSG00000000419                                          NaN   \n",
       "\n",
       "                I50-Diagnoses_main_ICD10_I50_Heart_failure CNCR_Insomnia_all  \n",
       "gene_name                                                                     \n",
       "ENSG00000137185                                        NaN               NaN  \n",
       "ENSG00000000457                                        NaN               NaN  \n",
       "ENSG00000095464                                        1.0               NaN  \n",
       "ENSG00000228397                                        NaN               1.0  \n",
       "ENSG00000279325                                        NaN              -1.0  \n",
       "ENSG00000000419                                        NaN               NaN  "
      ]
     },
     "execution_count": 23,
     "metadata": {},
     "output_type": "execute_result"
    }
   ],
   "source": [
    "spredixcan_genes_effect_directions.loc[\n",
    "    [\n",
    "        'ENSG00000137185',\n",
    "        'ENSG00000000457',\n",
    "        'ENSG00000095464',\n",
    "        'ENSG00000228397',\n",
    "        'ENSG00000279325',\n",
    "        'ENSG00000000419',\n",
    "    ],\n",
    "    [\n",
    "        '6157_3-Why_stopped_smoking_Health_precaution',\n",
    "        'I50-Diagnoses_main_ICD10_I50_Heart_failure',\n",
    "        'CNCR_Insomnia_all',\n",
    "    ]\n",
    "]"
   ]
  },
  {
   "cell_type": "code",
   "execution_count": 24,
   "metadata": {
    "papermill": {
     "duration": 0.106117,
     "end_time": "2020-08-20T03:41:42.425864",
     "exception": false,
     "start_time": "2020-08-20T03:41:42.319747",
     "status": "completed"
    },
    "tags": []
   },
   "outputs": [],
   "source": [
    "assert spredixcan_genes_effect_directions.loc['ENSG00000137185', '6157_3-Why_stopped_smoking_Health_precaution'] == -1.0\n",
    "assert pd.isnull(spredixcan_genes_effect_directions.loc['ENSG00000000457', '6157_3-Why_stopped_smoking_Health_precaution'])\n",
    "assert pd.isnull(spredixcan_genes_effect_directions.loc['ENSG00000095464', '6157_3-Why_stopped_smoking_Health_precaution'])\n",
    "\n",
    "assert spredixcan_genes_effect_directions.loc['ENSG00000095464', 'I50-Diagnoses_main_ICD10_I50_Heart_failure'] == 1.0\n",
    "\n",
    "assert pd.isnull(spredixcan_genes_effect_directions.loc['ENSG00000137185', 'CNCR_Insomnia_all'])\n",
    "assert spredixcan_genes_effect_directions.loc['ENSG00000228397', 'CNCR_Insomnia_all'] == 1.0\n",
    "assert spredixcan_genes_effect_directions.loc['ENSG00000279325', 'CNCR_Insomnia_all'] == -1.0"
   ]
  },
  {
   "cell_type": "markdown",
   "metadata": {
    "papermill": {
     "duration": 0.091572,
     "end_time": "2020-08-20T03:41:42.608499",
     "exception": false,
     "start_time": "2020-08-20T03:41:42.516927",
     "status": "completed"
    },
    "tags": []
   },
   "source": [
    "The code below was used to write the assert above; see for each gene if first and last (min and max) correspond to sign above"
   ]
  },
  {
   "cell_type": "code",
   "execution_count": 25,
   "metadata": {
    "papermill": {
     "duration": 0.102747,
     "end_time": "2020-08-20T03:41:42.802089",
     "exception": false,
     "start_time": "2020-08-20T03:41:42.699342",
     "status": "completed"
    },
    "tags": []
   },
   "outputs": [],
   "source": [
    "rapid_gwas_dir = conf.SPREDIXCAN_RESULTS_DIR['RapidGWASProject']\n",
    "gtex_gwas_dir = conf.SPREDIXCAN_RESULTS_DIR['GTEX_GWAS']"
   ]
  },
  {
   "cell_type": "code",
   "execution_count": 26,
   "metadata": {
    "papermill": {
     "duration": 6.496048,
     "end_time": "2020-08-20T03:41:49.389335",
     "exception": false,
     "start_time": "2020-08-20T03:41:42.893287",
     "status": "completed"
    },
    "tags": []
   },
   "outputs": [
    {
     "name": "stdout",
     "output_type": "stream",
     "text": [
      "ENSG00000137185.11  ZSCAN9               -5.83616067550634\n",
      "ENSG00000137185.11  ZSCAN9               -5.792628572580804\n",
      "ENSG00000137185.11  ZSCAN9               -5.681816314702161\n",
      "ENSG00000137185.11  ZSCAN9               -5.412943710075788\n",
      "ENSG00000137185.11  ZSCAN9               -5.352010726928711\n",
      "ENSG00000137185.11  ZSCAN9               -5.279010199840854\n",
      "ENSG00000137185.11  ZSCAN9               -5.108492106415525\n",
      "ENSG00000137185.11  ZSCAN9               -5.079929626396137\n",
      "ENSG00000137185.11  ZSCAN9               -5.063558049159138\n",
      "ENSG00000137185.11  ZSCAN9               -5.043577015552067\n",
      "ENSG00000137185.11  ZSCAN9               -5.003944335955496\n",
      "ENSG00000137185.11  ZSCAN9               -5.001958915404419\n",
      "ENSG00000137185.11  ZSCAN9               -4.975072786720918\n",
      "ENSG00000137185.11  ZSCAN9               -4.896579024471048\n",
      "ENSG00000137185.11  ZSCAN9               -4.890546437827829\n",
      "ENSG00000137185.11  ZSCAN9               -4.820902875527851\n",
      "ENSG00000137185.11  ZSCAN9               -4.752288165022551\n",
      "ENSG00000137185.11  ZSCAN9               -4.647128938064122\n",
      "ENSG00000137185.11  ZSCAN9               -4.569063316895238\n",
      "ENSG00000137185.11  ZSCAN9               -4.563529366438074\n",
      "ENSG00000137185.11  ZSCAN9               -4.4956903563804085\n",
      "ENSG00000137185.11  ZSCAN9               -4.464790531197869\n",
      "ENSG00000137185.11  ZSCAN9               -4.432309066744871\n",
      "ENSG00000137185.11  ZSCAN9               -4.362648046565126\n",
      "ENSG00000137185.11  ZSCAN9               -4.33316756201822\n",
      "ENSG00000137185.11  ZSCAN9               -4.2555141737623\n",
      "ENSG00000137185.11  ZSCAN9               -4.005842859521801\n",
      "ENSG00000137185.11  ZSCAN9               -3.77937716329222\n",
      "ENSG00000137185.11  ZSCAN9               -3.716997719017027\n",
      "ENSG00000137185.11  ZSCAN9               -3.655161783909055\n",
      "ENSG00000137185.11  ZSCAN9               -3.430654122133542\n",
      "ENSG00000137185.11  ZSCAN9               -3.171751470692835\n",
      "ENSG00000137185.11  ZSCAN9               -2.6098740403550895\n",
      "ENSG00000137185.11  ZSCAN9               -1.8832161426544192\n",
      "ENSG00000137185.11  ZSCAN9               -1.8832161426544192\n",
      "ENSG00000137185.11  ZSCAN9               -1.8832161426544187\n",
      "ENSG00000137185.11  ZSCAN9               -1.6922401768547777\n",
      "ENSG00000137185.11  ZSCAN9               -1.6549090387212249\n",
      "ENSG00000137185.11  ZSCAN9               -1.6494299364370852\n",
      "ENSG00000137185.11  ZSCAN9               -1.622862405799736\n",
      "ENSG00000137185.11  ZSCAN9               -1.3142750947646684\n",
      "ENSG00000137185.11  ZSCAN9               -1.260923638109413\n",
      "ENSG00000137185.11  ZSCAN9               0.23804569291863384\n",
      "ENSG00000137185.11  ZSCAN9               0.2597931492965406\n",
      "ENSG00000137185.11  ZSCAN9               0.27435923851300026\n",
      "ENSG00000137185.11  ZSCAN9               0.4592363802054511\n",
      "ENSG00000137185.11  ZSCAN9               0.5706144517175885\n",
      "ENSG00000137185.11  ZSCAN9               0.6564774626118419\n",
      "ENSG00000137185.11  ZSCAN9               1.5036653763319663\n",
      "\n",
      "ENSG00000000457.13  SCYL3                -1.4514227332124456\n",
      "ENSG00000000457.13  SCYL3                0.49047476284484304\n",
      "\n",
      "ENSG00000095464.9   PDE6C                NA\n",
      "ENSG00000095464.9   PDE6C                1.5649724006652834\n"
     ]
    }
   ],
   "source": [
    "%%bash -s \"$rapid_gwas_dir\"\n",
    "cd $1/6157_3\n",
    "parallel 'cat {} | cut -f1-3 -d, | column -t -s, | grep \"ENSG00000137185\"' ::: *.csv | sort -k3 -g\n",
    "echo \"\"\n",
    "parallel 'cat {} | cut -f1-3 -d, | column -t -s, | grep \"ENSG00000000457\"' ::: *.csv | sort -k3 -g | sed -e 1b -e '$!d'\n",
    "echo \"\"\n",
    "parallel 'cat {} | cut -f1-3 -d, | column -t -s, | grep \"ENSG00000095464\"' ::: *.csv | sort -k3 -g | sed -e 1b -e '$!d'"
   ]
  },
  {
   "cell_type": "code",
   "execution_count": 27,
   "metadata": {
    "papermill": {
     "duration": 2.276338,
     "end_time": "2020-08-20T03:41:51.759372",
     "exception": false,
     "start_time": "2020-08-20T03:41:49.483034",
     "status": "completed"
    },
    "tags": []
   },
   "outputs": [
    {
     "name": "stdout",
     "output_type": "stream",
     "text": [
      "ENSG00000095464.9   PDE6C                NA\n",
      "ENSG00000095464.9   PDE6C                -2.987583875656128\n",
      "ENSG00000095464.9   PDE6C                -1.706084537916532\n",
      "ENSG00000095464.9   PDE6C                -1.6929545931506047\n",
      "ENSG00000095464.9   PDE6C                -1.6694166874361254\n",
      "ENSG00000095464.9   PDE6C                -1.6645126380746706\n",
      "ENSG00000095464.9   PDE6C                -1.658251762390137\n",
      "ENSG00000095464.9   PDE6C                -1.6582517623901367\n",
      "ENSG00000095464.9   PDE6C                -1.6582517623901367\n",
      "ENSG00000095464.9   PDE6C                -1.6582517623901367\n",
      "ENSG00000095464.9   PDE6C                -1.652789255603333\n",
      "ENSG00000095464.9   PDE6C                -1.6400961218813983\n",
      "ENSG00000095464.9   PDE6C                -1.6347826064398305\n",
      "ENSG00000095464.9   PDE6C                -1.6275348613259335\n",
      "ENSG00000095464.9   PDE6C                -1.6171702146530154\n",
      "ENSG00000095464.9   PDE6C                -1.6171702146530154\n",
      "ENSG00000095464.9   PDE6C                -1.617170214653015\n",
      "ENSG00000095464.9   PDE6C                -1.469205428214409\n",
      "ENSG00000095464.9   PDE6C                0.34414066542610483\n",
      "ENSG00000095464.9   PDE6C                0.4394064196424759\n",
      "ENSG00000095464.9   PDE6C                0.5368163929863207\n",
      "ENSG00000095464.9   PDE6C                0.6187321543693544\n",
      "ENSG00000095464.9   PDE6C                0.8527774858968472\n",
      "ENSG00000095464.9   PDE6C                1.0481704473495483\n",
      "ENSG00000095464.9   PDE6C                1.207034279397966\n",
      "ENSG00000095464.9   PDE6C                1.3030036687850952\n",
      "ENSG00000095464.9   PDE6C                1.363927483558655\n",
      "ENSG00000095464.9   PDE6C                1.4123538602727423\n",
      "ENSG00000095464.9   PDE6C                1.6068010204064258\n",
      "ENSG00000095464.9   PDE6C                1.6171702146530154\n",
      "ENSG00000095464.9   PDE6C                1.649633348236154\n",
      "ENSG00000095464.9   PDE6C                1.650819502171409\n",
      "ENSG00000095464.9   PDE6C                1.6582588440791985\n",
      "ENSG00000095464.9   PDE6C                2.22658109664917\n",
      "ENSG00000095464.9   PDE6C                4.783493995666503\n",
      "ENSG00000095464.9   PDE6C                4.995758533477783\n"
     ]
    }
   ],
   "source": [
    "%%bash -s \"$rapid_gwas_dir\"\n",
    "cd $1/I50\n",
    "parallel 'cat {} | cut -f1-3 -d, | column -t -s, | grep \"ENSG00000095464\"' ::: *.csv | sort -k3 -g"
   ]
  },
  {
   "cell_type": "code",
   "execution_count": 28,
   "metadata": {
    "papermill": {
     "duration": 5.826267,
     "end_time": "2020-08-20T03:41:57.680417",
     "exception": false,
     "start_time": "2020-08-20T03:41:51.854150",
     "status": "completed"
    },
    "tags": []
   },
   "outputs": [
    {
     "name": "stdout",
     "output_type": "stream",
     "text": [
      "ENSG00000137185.11  ZSCAN9               -2.0075128138942824\n",
      "ENSG00000137185.11  ZSCAN9               -1.9716453552246094\n",
      "ENSG00000137185.11  ZSCAN9               -1.9451855273280618\n",
      "ENSG00000137185.11  ZSCAN9               -1.8545247091875776\n",
      "ENSG00000137185.11  ZSCAN9               -1.7974615020480318\n",
      "ENSG00000137185.11  ZSCAN9               -1.6697390108898214\n",
      "ENSG00000137185.11  ZSCAN9               -1.637959840329144\n",
      "ENSG00000137185.11  ZSCAN9               -1.5990879264599478\n",
      "ENSG00000137185.11  ZSCAN9               -1.5792834503640862\n",
      "ENSG00000137185.11  ZSCAN9               -1.5003131550674709\n",
      "ENSG00000137185.11  ZSCAN9               -1.4885983833529386\n",
      "ENSG00000137185.11  ZSCAN9               -1.4863373695166933\n",
      "ENSG00000137185.11  ZSCAN9               -1.4656920469620405\n",
      "ENSG00000137185.11  ZSCAN9               -1.4643227059342168\n",
      "ENSG00000137185.11  ZSCAN9               -1.4559472334714858\n",
      "ENSG00000137185.11  ZSCAN9               -1.4441600680748996\n",
      "ENSG00000137185.11  ZSCAN9               -1.443698305360544\n",
      "ENSG00000137185.11  ZSCAN9               -1.4100063112999224\n",
      "ENSG00000137185.11  ZSCAN9               -1.3993590172065633\n",
      "ENSG00000137185.11  ZSCAN9               -1.3793090874313039\n",
      "ENSG00000137185.11  ZSCAN9               -1.3449999156360921\n",
      "ENSG00000137185.11  ZSCAN9               -1.3378673502030038\n",
      "ENSG00000137185.11  ZSCAN9               -1.2672643452162011\n",
      "ENSG00000137185.11  ZSCAN9               -1.2645100156159148\n",
      "ENSG00000137185.11  ZSCAN9               -1.2485100276674868\n",
      "ENSG00000137185.11  ZSCAN9               -1.234295974816136\n",
      "ENSG00000137185.11  ZSCAN9               -1.2264478286956852\n",
      "ENSG00000137185.11  ZSCAN9               -1.1645883685414848\n",
      "ENSG00000137185.11  ZSCAN9               -1.0825360168498885\n",
      "ENSG00000137185.11  ZSCAN9               -1.0390941443010768\n",
      "ENSG00000137185.11  ZSCAN9               -0.9388044093613568\n",
      "ENSG00000137185.11  ZSCAN9               -0.9140282628616563\n",
      "ENSG00000137185.11  ZSCAN9               -0.7022357803069813\n",
      "ENSG00000137185.11  ZSCAN9               -0.6644571854194207\n",
      "ENSG00000137185.11  ZSCAN9               -0.6634776263026184\n",
      "ENSG00000137185.11  ZSCAN9               -0.5856364112697802\n",
      "ENSG00000137185.11  ZSCAN9               -0.5550908174740528\n",
      "ENSG00000137185.11  ZSCAN9               -0.40817357229807555\n",
      "ENSG00000137185.11  ZSCAN9               -0.225019633769989\n",
      "ENSG00000137185.11  ZSCAN9               -0.225019633769989\n",
      "ENSG00000137185.11  ZSCAN9               -0.225019633769989\n",
      "ENSG00000137185.11  ZSCAN9               -0.21402391914126281\n",
      "ENSG00000137185.11  ZSCAN9               -0.1925680493813343\n",
      "ENSG00000137185.11  ZSCAN9               -0.19153776648888055\n",
      "ENSG00000137185.11  ZSCAN9               -0.06470770470527072\n",
      "ENSG00000137185.11  ZSCAN9               -0.023521951802219908\n",
      "ENSG00000137185.11  ZSCAN9               -0.022545898984736874\n",
      "ENSG00000137185.11  ZSCAN9               0.520659264247914\n",
      "ENSG00000137185.11  ZSCAN9               0.924437358486515\n",
      "\n",
      "ENSG00000228397.2   LINC01635            -0.011170922899992667\n",
      "ENSG00000228397.2   LINC01635            0.043454625056574755\n",
      "ENSG00000228397.2   LINC01635            2.9856133245932024\n",
      "ENSG00000228397.2   LINC01635            3.214933018987968\n",
      "ENSG00000228397.2   LINC01635            3.631364020132774\n",
      "ENSG00000228397.2   LINC01635            3.895774841308594\n",
      "ENSG00000228397.2   LINC01635            4.238051414489746\n",
      "ENSG00000228397.2   LINC01635            4.238051414489746\n",
      "\n",
      "ENSG00000279325.1   RP11-24H2.3          -4.502687931060791\n",
      "ENSG00000279325.1   RP11-24H2.3          -2.0733587741851807\n",
      "ENSG00000279325.1   RP11-24H2.3          -0.9803325533866883\n"
     ]
    }
   ],
   "source": [
    "%%bash -s \"$gtex_gwas_dir\"\n",
    "cd $1/CNCR_Insomnia_all\n",
    "parallel 'cat {} | cut -f1-3 -d, | column -t -s, | grep \"ENSG00000137185\"' ::: *.csv | sort -k3 -g # | sed -e 1b -e '$!d'\n",
    "echo \"\"\n",
    "parallel 'cat {} | cut -f1-3 -d, | column -t -s, | grep \"ENSG00000228397\"' ::: *.csv | sort -k3 -g # | sed -e 1b -e '$!d'\n",
    "echo \"\"\n",
    "parallel 'cat {} | cut -f1-3 -d, | column -t -s, | grep \"ENSG00000279325\"' ::: *.csv | sort -k3 -g # | sed -e 1b -e '$!d'"
   ]
  },
  {
   "cell_type": "markdown",
   "metadata": {
    "papermill": {
     "duration": 0.091929,
     "end_time": "2020-08-20T03:41:57.865926",
     "exception": false,
     "start_time": "2020-08-20T03:41:57.773997",
     "status": "completed"
    },
    "tags": []
   },
   "source": [
    "### Save"
   ]
  },
  {
   "cell_type": "code",
   "execution_count": 29,
   "metadata": {
    "papermill": {
     "duration": 0.107944,
     "end_time": "2020-08-20T03:41:58.065710",
     "exception": false,
     "start_time": "2020-08-20T03:41:57.957766",
     "status": "completed"
    },
    "tags": []
   },
   "outputs": [
    {
     "data": {
      "text/plain": [
       "(22518, 4091)"
      ]
     },
     "execution_count": 29,
     "metadata": {},
     "output_type": "execute_result"
    }
   ],
   "source": [
    "spredixcan_genes_effect_directions.shape"
   ]
  },
  {
   "cell_type": "code",
   "execution_count": 30,
   "metadata": {
    "papermill": {
     "duration": 0.33146,
     "end_time": "2020-08-20T03:41:58.490301",
     "exception": false,
     "start_time": "2020-08-20T03:41:58.158841",
     "status": "completed"
    },
    "tags": []
   },
   "outputs": [
    {
     "data": {
      "text/html": [
       "<div>\n",
       "<style scoped>\n",
       "    .dataframe tbody tr th:only-of-type {\n",
       "        vertical-align: middle;\n",
       "    }\n",
       "\n",
       "    .dataframe tbody tr th {\n",
       "        vertical-align: top;\n",
       "    }\n",
       "\n",
       "    .dataframe thead th {\n",
       "        text-align: right;\n",
       "    }\n",
       "</style>\n",
       "<table border=\"1\" class=\"dataframe\">\n",
       "  <thead>\n",
       "    <tr style=\"text-align: right;\">\n",
       "      <th></th>\n",
       "      <th>R60-Diagnoses_main_ICD10_R60_Oedema_not_elsewhere_classified</th>\n",
       "      <th>ULCEROTH-Other_ulcerative_colitis</th>\n",
       "      <th>20002_1161-Noncancer_illness_code_selfreported_gall_bladder_disease</th>\n",
       "      <th>22601_31152695-Job_coding_quality_assurance_techniciancoordinator</th>\n",
       "      <th>20003_1140860696-Treatmentmedication_code_lisinopril</th>\n",
       "      <th>D50-Diagnoses_main_ICD10_D50_Iron_deficiency_anaemia</th>\n",
       "      <th>1160-Sleep_duration</th>\n",
       "      <th>20002_1457-Noncancer_illness_code_selfreported_duodenal_ulcer</th>\n",
       "      <th>22660_106-Gap_coding_Unable_to_work_due_to_sickness_or_disability</th>\n",
       "      <th>22601_35333266-Job_coding_insurance_underwriter_insurance_inspector_insurance_account_handler</th>\n",
       "      <th>...</th>\n",
       "      <th>IBD.EUR.Ulcerative_Colitis</th>\n",
       "      <th>Astle_et_al_2016_Sum_basophil_neutrophil_counts</th>\n",
       "      <th>Astle_et_al_2016_Reticulocyte_count</th>\n",
       "      <th>RA_OKADA_TRANS_ETHNIC</th>\n",
       "      <th>GEFOS_Forearm</th>\n",
       "      <th>Jones_et_al_2016_SleepDuration</th>\n",
       "      <th>EAGLE_Eczema</th>\n",
       "      <th>IBD.EUR.Crohns_Disease</th>\n",
       "      <th>IMMUNOBASE_Systemic_lupus_erythematosus_hg19</th>\n",
       "      <th>Astle_et_al_2016_Myeloid_white_cell_count</th>\n",
       "    </tr>\n",
       "    <tr>\n",
       "      <th>gene_name</th>\n",
       "      <th></th>\n",
       "      <th></th>\n",
       "      <th></th>\n",
       "      <th></th>\n",
       "      <th></th>\n",
       "      <th></th>\n",
       "      <th></th>\n",
       "      <th></th>\n",
       "      <th></th>\n",
       "      <th></th>\n",
       "      <th></th>\n",
       "      <th></th>\n",
       "      <th></th>\n",
       "      <th></th>\n",
       "      <th></th>\n",
       "      <th></th>\n",
       "      <th></th>\n",
       "      <th></th>\n",
       "      <th></th>\n",
       "      <th></th>\n",
       "      <th></th>\n",
       "    </tr>\n",
       "  </thead>\n",
       "  <tbody>\n",
       "    <tr>\n",
       "      <th>ENSG00000000419</th>\n",
       "      <td>NaN</td>\n",
       "      <td>NaN</td>\n",
       "      <td>NaN</td>\n",
       "      <td>NaN</td>\n",
       "      <td>NaN</td>\n",
       "      <td>NaN</td>\n",
       "      <td>NaN</td>\n",
       "      <td>NaN</td>\n",
       "      <td>NaN</td>\n",
       "      <td>NaN</td>\n",
       "      <td>...</td>\n",
       "      <td>NaN</td>\n",
       "      <td>NaN</td>\n",
       "      <td>NaN</td>\n",
       "      <td>NaN</td>\n",
       "      <td>NaN</td>\n",
       "      <td>NaN</td>\n",
       "      <td>NaN</td>\n",
       "      <td>NaN</td>\n",
       "      <td>NaN</td>\n",
       "      <td>NaN</td>\n",
       "    </tr>\n",
       "    <tr>\n",
       "      <th>ENSG00000000457</th>\n",
       "      <td>NaN</td>\n",
       "      <td>NaN</td>\n",
       "      <td>NaN</td>\n",
       "      <td>NaN</td>\n",
       "      <td>NaN</td>\n",
       "      <td>NaN</td>\n",
       "      <td>NaN</td>\n",
       "      <td>NaN</td>\n",
       "      <td>NaN</td>\n",
       "      <td>NaN</td>\n",
       "      <td>...</td>\n",
       "      <td>NaN</td>\n",
       "      <td>NaN</td>\n",
       "      <td>NaN</td>\n",
       "      <td>NaN</td>\n",
       "      <td>NaN</td>\n",
       "      <td>NaN</td>\n",
       "      <td>NaN</td>\n",
       "      <td>NaN</td>\n",
       "      <td>NaN</td>\n",
       "      <td>NaN</td>\n",
       "    </tr>\n",
       "    <tr>\n",
       "      <th>ENSG00000000460</th>\n",
       "      <td>NaN</td>\n",
       "      <td>NaN</td>\n",
       "      <td>NaN</td>\n",
       "      <td>NaN</td>\n",
       "      <td>NaN</td>\n",
       "      <td>NaN</td>\n",
       "      <td>NaN</td>\n",
       "      <td>NaN</td>\n",
       "      <td>NaN</td>\n",
       "      <td>NaN</td>\n",
       "      <td>...</td>\n",
       "      <td>NaN</td>\n",
       "      <td>NaN</td>\n",
       "      <td>NaN</td>\n",
       "      <td>NaN</td>\n",
       "      <td>NaN</td>\n",
       "      <td>NaN</td>\n",
       "      <td>NaN</td>\n",
       "      <td>NaN</td>\n",
       "      <td>NaN</td>\n",
       "      <td>NaN</td>\n",
       "    </tr>\n",
       "    <tr>\n",
       "      <th>ENSG00000000938</th>\n",
       "      <td>NaN</td>\n",
       "      <td>NaN</td>\n",
       "      <td>NaN</td>\n",
       "      <td>NaN</td>\n",
       "      <td>NaN</td>\n",
       "      <td>NaN</td>\n",
       "      <td>NaN</td>\n",
       "      <td>NaN</td>\n",
       "      <td>NaN</td>\n",
       "      <td>NaN</td>\n",
       "      <td>...</td>\n",
       "      <td>NaN</td>\n",
       "      <td>NaN</td>\n",
       "      <td>NaN</td>\n",
       "      <td>NaN</td>\n",
       "      <td>NaN</td>\n",
       "      <td>NaN</td>\n",
       "      <td>NaN</td>\n",
       "      <td>NaN</td>\n",
       "      <td>NaN</td>\n",
       "      <td>NaN</td>\n",
       "    </tr>\n",
       "    <tr>\n",
       "      <th>ENSG00000000971</th>\n",
       "      <td>NaN</td>\n",
       "      <td>NaN</td>\n",
       "      <td>NaN</td>\n",
       "      <td>NaN</td>\n",
       "      <td>NaN</td>\n",
       "      <td>NaN</td>\n",
       "      <td>NaN</td>\n",
       "      <td>NaN</td>\n",
       "      <td>NaN</td>\n",
       "      <td>NaN</td>\n",
       "      <td>...</td>\n",
       "      <td>NaN</td>\n",
       "      <td>NaN</td>\n",
       "      <td>NaN</td>\n",
       "      <td>NaN</td>\n",
       "      <td>1.0</td>\n",
       "      <td>NaN</td>\n",
       "      <td>NaN</td>\n",
       "      <td>NaN</td>\n",
       "      <td>NaN</td>\n",
       "      <td>NaN</td>\n",
       "    </tr>\n",
       "  </tbody>\n",
       "</table>\n",
       "<p>5 rows × 4091 columns</p>\n",
       "</div>"
      ],
      "text/plain": [
       "                R60-Diagnoses_main_ICD10_R60_Oedema_not_elsewhere_classified  \\\n",
       "gene_name                                                                      \n",
       "ENSG00000000419                                                NaN             \n",
       "ENSG00000000457                                                NaN             \n",
       "ENSG00000000460                                                NaN             \n",
       "ENSG00000000938                                                NaN             \n",
       "ENSG00000000971                                                NaN             \n",
       "\n",
       "                ULCEROTH-Other_ulcerative_colitis  \\\n",
       "gene_name                                           \n",
       "ENSG00000000419                               NaN   \n",
       "ENSG00000000457                               NaN   \n",
       "ENSG00000000460                               NaN   \n",
       "ENSG00000000938                               NaN   \n",
       "ENSG00000000971                               NaN   \n",
       "\n",
       "                20002_1161-Noncancer_illness_code_selfreported_gall_bladder_disease  \\\n",
       "gene_name                                                                             \n",
       "ENSG00000000419                                                NaN                    \n",
       "ENSG00000000457                                                NaN                    \n",
       "ENSG00000000460                                                NaN                    \n",
       "ENSG00000000938                                                NaN                    \n",
       "ENSG00000000971                                                NaN                    \n",
       "\n",
       "                22601_31152695-Job_coding_quality_assurance_techniciancoordinator  \\\n",
       "gene_name                                                                           \n",
       "ENSG00000000419                                                NaN                  \n",
       "ENSG00000000457                                                NaN                  \n",
       "ENSG00000000460                                                NaN                  \n",
       "ENSG00000000938                                                NaN                  \n",
       "ENSG00000000971                                                NaN                  \n",
       "\n",
       "                20003_1140860696-Treatmentmedication_code_lisinopril  \\\n",
       "gene_name                                                              \n",
       "ENSG00000000419                                                NaN     \n",
       "ENSG00000000457                                                NaN     \n",
       "ENSG00000000460                                                NaN     \n",
       "ENSG00000000938                                                NaN     \n",
       "ENSG00000000971                                                NaN     \n",
       "\n",
       "                D50-Diagnoses_main_ICD10_D50_Iron_deficiency_anaemia  \\\n",
       "gene_name                                                              \n",
       "ENSG00000000419                                                NaN     \n",
       "ENSG00000000457                                                NaN     \n",
       "ENSG00000000460                                                NaN     \n",
       "ENSG00000000938                                                NaN     \n",
       "ENSG00000000971                                                NaN     \n",
       "\n",
       "                1160-Sleep_duration  \\\n",
       "gene_name                             \n",
       "ENSG00000000419                 NaN   \n",
       "ENSG00000000457                 NaN   \n",
       "ENSG00000000460                 NaN   \n",
       "ENSG00000000938                 NaN   \n",
       "ENSG00000000971                 NaN   \n",
       "\n",
       "                20002_1457-Noncancer_illness_code_selfreported_duodenal_ulcer  \\\n",
       "gene_name                                                                       \n",
       "ENSG00000000419                                                NaN              \n",
       "ENSG00000000457                                                NaN              \n",
       "ENSG00000000460                                                NaN              \n",
       "ENSG00000000938                                                NaN              \n",
       "ENSG00000000971                                                NaN              \n",
       "\n",
       "                22660_106-Gap_coding_Unable_to_work_due_to_sickness_or_disability  \\\n",
       "gene_name                                                                           \n",
       "ENSG00000000419                                                NaN                  \n",
       "ENSG00000000457                                                NaN                  \n",
       "ENSG00000000460                                                NaN                  \n",
       "ENSG00000000938                                                NaN                  \n",
       "ENSG00000000971                                                NaN                  \n",
       "\n",
       "                22601_35333266-Job_coding_insurance_underwriter_insurance_inspector_insurance_account_handler  \\\n",
       "gene_name                                                                                                       \n",
       "ENSG00000000419                                                NaN                                              \n",
       "ENSG00000000457                                                NaN                                              \n",
       "ENSG00000000460                                                NaN                                              \n",
       "ENSG00000000938                                                NaN                                              \n",
       "ENSG00000000971                                                NaN                                              \n",
       "\n",
       "                 ... IBD.EUR.Ulcerative_Colitis  \\\n",
       "gene_name        ...                              \n",
       "ENSG00000000419  ...                        NaN   \n",
       "ENSG00000000457  ...                        NaN   \n",
       "ENSG00000000460  ...                        NaN   \n",
       "ENSG00000000938  ...                        NaN   \n",
       "ENSG00000000971  ...                        NaN   \n",
       "\n",
       "                Astle_et_al_2016_Sum_basophil_neutrophil_counts  \\\n",
       "gene_name                                                         \n",
       "ENSG00000000419                                             NaN   \n",
       "ENSG00000000457                                             NaN   \n",
       "ENSG00000000460                                             NaN   \n",
       "ENSG00000000938                                             NaN   \n",
       "ENSG00000000971                                             NaN   \n",
       "\n",
       "                Astle_et_al_2016_Reticulocyte_count RA_OKADA_TRANS_ETHNIC  \\\n",
       "gene_name                                                                   \n",
       "ENSG00000000419                                 NaN                   NaN   \n",
       "ENSG00000000457                                 NaN                   NaN   \n",
       "ENSG00000000460                                 NaN                   NaN   \n",
       "ENSG00000000938                                 NaN                   NaN   \n",
       "ENSG00000000971                                 NaN                   NaN   \n",
       "\n",
       "                GEFOS_Forearm Jones_et_al_2016_SleepDuration EAGLE_Eczema  \\\n",
       "gene_name                                                                   \n",
       "ENSG00000000419           NaN                            NaN          NaN   \n",
       "ENSG00000000457           NaN                            NaN          NaN   \n",
       "ENSG00000000460           NaN                            NaN          NaN   \n",
       "ENSG00000000938           NaN                            NaN          NaN   \n",
       "ENSG00000000971           1.0                            NaN          NaN   \n",
       "\n",
       "                IBD.EUR.Crohns_Disease  \\\n",
       "gene_name                                \n",
       "ENSG00000000419                    NaN   \n",
       "ENSG00000000457                    NaN   \n",
       "ENSG00000000460                    NaN   \n",
       "ENSG00000000938                    NaN   \n",
       "ENSG00000000971                    NaN   \n",
       "\n",
       "                IMMUNOBASE_Systemic_lupus_erythematosus_hg19  \\\n",
       "gene_name                                                      \n",
       "ENSG00000000419                                          NaN   \n",
       "ENSG00000000457                                          NaN   \n",
       "ENSG00000000460                                          NaN   \n",
       "ENSG00000000938                                          NaN   \n",
       "ENSG00000000971                                          NaN   \n",
       "\n",
       "                Astle_et_al_2016_Myeloid_white_cell_count  \n",
       "gene_name                                                  \n",
       "ENSG00000000419                                       NaN  \n",
       "ENSG00000000457                                       NaN  \n",
       "ENSG00000000460                                       NaN  \n",
       "ENSG00000000938                                       NaN  \n",
       "ENSG00000000971                                       NaN  \n",
       "\n",
       "[5 rows x 4091 columns]"
      ]
     },
     "execution_count": 30,
     "metadata": {},
     "output_type": "execute_result"
    }
   ],
   "source": [
    "spredixcan_genes_effect_directions.head()"
   ]
  },
  {
   "cell_type": "code",
   "execution_count": 31,
   "metadata": {
    "papermill": {
     "duration": 0.106141,
     "end_time": "2020-08-20T03:41:58.690466",
     "exception": false,
     "start_time": "2020-08-20T03:41:58.584325",
     "status": "completed"
    },
    "tags": []
   },
   "outputs": [
    {
     "data": {
      "text/plain": [
       "'/home/miltondp/projects/labs/hakyimlab/phenomexcan/base/gene_assoc/spredixcan-mashr-effect_direction-consensus.pkl.xz'"
      ]
     },
     "metadata": {},
     "output_type": "display_data"
    }
   ],
   "source": [
    "# Save\n",
    "spredixcan_genes_effect_directions_filename = os.path.join(conf.GENE_ASSOC_DIR, f'spredixcan-mashr-effect_direction-consensus.pkl.xz')\n",
    "display(spredixcan_genes_effect_directions_filename)"
   ]
  },
  {
   "cell_type": "code",
   "execution_count": 32,
   "metadata": {
    "papermill": {
     "duration": 5.47857,
     "end_time": "2020-08-20T03:42:04.262248",
     "exception": false,
     "start_time": "2020-08-20T03:41:58.783678",
     "status": "completed"
    },
    "tags": []
   },
   "outputs": [],
   "source": [
    "spredixcan_genes_effect_directions.to_pickle(spredixcan_genes_effect_directions_filename)"
   ]
  },
  {
   "cell_type": "markdown",
   "metadata": {
    "papermill": {
     "duration": 0.093888,
     "end_time": "2020-08-20T03:42:04.450750",
     "exception": false,
     "start_time": "2020-08-20T03:42:04.356862",
     "status": "completed"
    },
    "tags": []
   },
   "source": [
    "### Save in HDF5 format for webapp"
   ]
  },
  {
   "cell_type": "code",
   "execution_count": 33,
   "metadata": {
    "papermill": {
     "duration": 0.660924,
     "end_time": "2020-08-20T03:42:05.205734",
     "exception": false,
     "start_time": "2020-08-20T03:42:04.544810",
     "status": "completed"
    },
    "tags": []
   },
   "outputs": [],
   "source": [
    "spredixcan_genes_effect_directions = pd.read_pickle(spredixcan_genes_effect_directions_filename)"
   ]
  },
  {
   "cell_type": "code",
   "execution_count": 34,
   "metadata": {
    "papermill": {
     "duration": 0.106273,
     "end_time": "2020-08-20T03:42:05.408089",
     "exception": false,
     "start_time": "2020-08-20T03:42:05.301816",
     "status": "completed"
    },
    "tags": []
   },
   "outputs": [
    {
     "data": {
      "text/plain": [
       "(22518, 4091)"
      ]
     },
     "execution_count": 34,
     "metadata": {},
     "output_type": "execute_result"
    }
   ],
   "source": [
    "spredixcan_genes_effect_directions.shape"
   ]
  },
  {
   "cell_type": "code",
   "execution_count": 35,
   "metadata": {
    "papermill": {
     "duration": 0.106525,
     "end_time": "2020-08-20T03:42:05.608661",
     "exception": false,
     "start_time": "2020-08-20T03:42:05.502136",
     "status": "completed"
    },
    "tags": []
   },
   "outputs": [],
   "source": [
    "from utils import simplify_string_for_hdf5"
   ]
  },
  {
   "cell_type": "code",
   "execution_count": 36,
   "metadata": {
    "papermill": {
     "duration": 0.105232,
     "end_time": "2020-08-20T03:42:05.806786",
     "exception": false,
     "start_time": "2020-08-20T03:42:05.701554",
     "status": "completed"
    },
    "tags": []
   },
   "outputs": [],
   "source": [
    "os.makedirs(conf.GENE_ASSOC_DIR, exist_ok=True)"
   ]
  },
  {
   "cell_type": "code",
   "execution_count": 37,
   "metadata": {
    "papermill": {
     "duration": 0.107067,
     "end_time": "2020-08-20T03:42:06.006898",
     "exception": false,
     "start_time": "2020-08-20T03:42:05.899831",
     "status": "completed"
    },
    "tags": []
   },
   "outputs": [
    {
     "data": {
      "text/plain": [
       "'/home/miltondp/projects/labs/hakyimlab/phenomexcan/base/gene_assoc/spredixcan-mashr-effect_direction-consensus.h5'"
      ]
     },
     "metadata": {},
     "output_type": "display_data"
    }
   ],
   "source": [
    "OUTPUT_HDF5_FILE = os.path.join(conf.GENE_ASSOC_DIR, 'spredixcan-mashr-effect_direction-consensus.h5')\n",
    "display(OUTPUT_HDF5_FILE)"
   ]
  },
  {
   "cell_type": "code",
   "execution_count": 38,
   "metadata": {
    "papermill": {
     "duration": 49.83601,
     "end_time": "2020-08-20T03:42:55.935429",
     "exception": false,
     "start_time": "2020-08-20T03:42:06.099419",
     "status": "completed"
    },
    "tags": []
   },
   "outputs": [],
   "source": [
    "with pd.HDFStore(OUTPUT_HDF5_FILE, mode='w', complevel=1) as store:\n",
    "    for col in spredixcan_genes_effect_directions.columns:\n",
    "        #print('.', flush=True, end='')\n",
    "        clean_col = simplify_string_for_hdf5(col)\n",
    "        store[clean_col] = spredixcan_genes_effect_directions[col].astype(float)"
   ]
  },
  {
   "cell_type": "code",
   "execution_count": 39,
   "metadata": {
    "papermill": {
     "duration": 2.555713,
     "end_time": "2020-08-20T03:42:58.587581",
     "exception": false,
     "start_time": "2020-08-20T03:42:56.031868",
     "status": "completed"
    },
    "tags": []
   },
   "outputs": [
    {
     "data": {
      "text/plain": [
       "['/c100001_raw_Food_weight',\n",
       " '/c100002_raw_Energy',\n",
       " '/c100003_raw_Protein',\n",
       " '/c100004_raw_Fat',\n",
       " '/c100005_raw_Carbohydrate']"
      ]
     },
     "metadata": {},
     "output_type": "display_data"
    }
   ],
   "source": [
    "# testing\n",
    "with pd.HDFStore(OUTPUT_HDF5_FILE, mode='r') as store:\n",
    "    store_keys = list(store.keys())\n",
    "    assert len(store_keys) == spredixcan_genes_effect_directions.shape[1]\n",
    "    display(store_keys[:5])\n",
    "    \n",
    "    clean_col = simplify_string_for_hdf5('6157_3-Why_stopped_smoking_Health_precaution')\n",
    "    data = store[clean_col]\n",
    "    assert data.shape == (22518,), data.shape\n",
    "    assert data.loc['ENSG00000137185'] == -1.0\n",
    "    assert pd.isnull(data.loc['ENSG00000000457'])\n",
    "    assert pd.isnull(data.loc['ENSG00000095464'])\n",
    "    \n",
    "    clean_col = simplify_string_for_hdf5('I50-Diagnoses_main_ICD10_I50_Heart_failure')\n",
    "    data = store[clean_col]\n",
    "    assert data.shape == (22518,), data.shape\n",
    "    assert data.loc['ENSG00000095464'] == 1.0\n",
    "    \n",
    "    clean_col = simplify_string_for_hdf5('CNCR_Insomnia_all')\n",
    "    data = store[clean_col]\n",
    "    assert data.shape == (22518,), data.shape\n",
    "    assert pd.isnull(data.loc['ENSG00000137185'])\n",
    "    assert data.loc['ENSG00000228397'] == 1.0\n",
    "    assert data.loc['ENSG00000279325'] == -1.0"
   ]
  },
  {
   "cell_type": "code",
   "execution_count": null,
   "metadata": {
    "papermill": {
     "duration": 0.092788,
     "end_time": "2020-08-20T03:42:58.784108",
     "exception": false,
     "start_time": "2020-08-20T03:42:58.691320",
     "status": "completed"
    },
    "tags": []
   },
   "outputs": [],
   "source": []
  }
 ],
 "metadata": {
  "kernelspec": {
   "display_name": "Python 3",
   "language": "python",
   "name": "python3"
  },
  "language_info": {
   "codemirror_mode": {
    "name": "ipython",
    "version": 3
   },
   "file_extension": ".py",
   "mimetype": "text/x-python",
   "name": "python",
   "nbconvert_exporter": "python",
   "pygments_lexer": "ipython3",
   "version": "3.7.6"
  },
  "papermill": {
   "duration": 31644.277049,
   "end_time": "2020-08-20T03:43:02.087989",
   "environment_variables": {},
   "exception": null,
   "input_path": "100_postprocessing/06_spredixcan_direction_effect_consensus.ipynb",
   "output_path": "100_postprocessing/06_spredixcan_direction_effect_consensus.run.ipynb",
   "parameters": {},
   "start_time": "2020-08-19T18:55:37.810940",
   "version": "1.2.1"
  }
 },
 "nbformat": 4,
 "nbformat_minor": 4
}