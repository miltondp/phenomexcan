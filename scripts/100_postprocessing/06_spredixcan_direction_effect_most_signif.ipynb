{
 "cells": [
  {
   "cell_type": "code",
   "execution_count": null,
   "metadata": {
    "papermill": {
     "duration": 0.092227,
     "end_time": "2020-01-02T21:43:24.035674",
     "exception": false,
     "start_time": "2020-01-02T21:43:23.943447",
     "status": "completed"
    },
    "tags": []
   },
   "outputs": [],
   "source": [
    "%load_ext autoreload\n",
    "%autoreload 2"
   ]
  },
  {
   "cell_type": "code",
   "execution_count": null,
   "metadata": {
    "papermill": {
     "duration": 4.652651,
     "end_time": "2020-01-02T21:43:28.724980",
     "exception": false,
     "start_time": "2020-01-02T21:43:24.072329",
     "status": "completed"
    },
    "tags": []
   },
   "outputs": [],
   "source": [
    "import os\n",
    "import pickle\n",
    "from glob import glob\n",
    "from concurrent.futures import ProcessPoolExecutor, as_completed\n",
    "\n",
    "import numpy as np\n",
    "import pandas as pd\n",
    "from scipy import stats\n",
    "\n",
    "import settings as conf\n",
    "from utils import is_number, chunker"
   ]
  },
  {
   "cell_type": "markdown",
   "metadata": {
    "papermill": {
     "duration": 0.043623,
     "end_time": "2020-01-02T21:43:28.811374",
     "exception": false,
     "start_time": "2020-01-02T21:43:28.767751",
     "status": "completed"
    },
    "tags": []
   },
   "source": [
    "# Load S-PrediXcan results"
   ]
  },
  {
   "cell_type": "markdown",
   "metadata": {
    "papermill": {
     "duration": 0.035578,
     "end_time": "2020-01-02T21:43:28.887685",
     "exception": false,
     "start_time": "2020-01-02T21:43:28.852107",
     "status": "completed"
    },
    "tags": []
   },
   "source": [
    "## From Rapid GWAS project"
   ]
  },
  {
   "cell_type": "code",
   "execution_count": null,
   "metadata": {
    "papermill": {
     "duration": 0.752322,
     "end_time": "2020-01-02T21:43:29.675840",
     "exception": false,
     "start_time": "2020-01-02T21:43:28.923518",
     "status": "completed"
    },
    "tags": []
   },
   "outputs": [],
   "source": [
    "from results.spredixcan import PhenoResults"
   ]
  },
  {
   "cell_type": "code",
   "execution_count": null,
   "metadata": {
    "papermill": {
     "duration": 0.127605,
     "end_time": "2020-01-02T21:43:29.844678",
     "exception": false,
     "start_time": "2020-01-02T21:43:29.717073",
     "status": "completed"
    },
    "tags": []
   },
   "outputs": [],
   "source": [
    "_path = os.path.join(conf.SPREDIXCAN_RESULTS_DIR['RapidGWASProject'] + '/*')\n",
    "display(_path)\n",
    "all_spredixcan_results_dirs = [f for f in glob(_path) if os.path.isdir(f)]\n",
    "display(len(all_spredixcan_results_dirs))\n",
    "assert len(all_spredixcan_results_dirs) == conf.SPREDIXCAN_EXPECTED_PHENOTYPES['RapidGWASProject']"
   ]
  },
  {
   "cell_type": "code",
   "execution_count": null,
   "metadata": {
    "papermill": {
     "duration": 59.147534,
     "end_time": "2020-01-02T21:44:29.039051",
     "exception": false,
     "start_time": "2020-01-02T21:43:29.891517",
     "status": "completed"
    },
    "tags": []
   },
   "outputs": [],
   "source": [
    "all_spredixcan_phenotypes = [PhenoResults(p) for p in all_spredixcan_results_dirs]\n",
    "\n",
    "display(len(all_spredixcan_phenotypes))\n",
    "assert len(all_spredixcan_phenotypes) == conf.SPREDIXCAN_EXPECTED_PHENOTYPES['RapidGWASProject']"
   ]
  },
  {
   "cell_type": "markdown",
   "metadata": {
    "papermill": {
     "duration": 0.038437,
     "end_time": "2020-01-02T21:44:29.120590",
     "exception": false,
     "start_time": "2020-01-02T21:44:29.082153",
     "status": "completed"
    },
    "tags": []
   },
   "source": [
    "## From GTEx GWAS manuscript"
   ]
  },
  {
   "cell_type": "code",
   "execution_count": null,
   "metadata": {
    "papermill": {
     "duration": 0.100806,
     "end_time": "2020-01-02T21:44:29.262837",
     "exception": false,
     "start_time": "2020-01-02T21:44:29.162031",
     "status": "completed"
    },
    "tags": []
   },
   "outputs": [],
   "source": [
    "_path = os.path.join(conf.SPREDIXCAN_RESULTS_DIR['GTEX_GWAS'] + '/*')\n",
    "display(_path)\n",
    "all_extra_results_dirs = [f for f in glob(_path) if os.path.isdir(f)]\n",
    "display(len(all_extra_results_dirs))\n",
    "assert len(all_extra_results_dirs) == conf.SPREDIXCAN_EXPECTED_PHENOTYPES['GTEX_GWAS']"
   ]
  },
  {
   "cell_type": "code",
   "execution_count": null,
   "metadata": {
    "papermill": {
     "duration": 0.08501,
     "end_time": "2020-01-02T21:44:29.386738",
     "exception": false,
     "start_time": "2020-01-02T21:44:29.301728",
     "status": "completed"
    },
    "tags": []
   },
   "outputs": [],
   "source": [
    "all_extra_results_dirs[:5]"
   ]
  },
  {
   "cell_type": "code",
   "execution_count": null,
   "metadata": {
    "papermill": {
     "duration": 0.167316,
     "end_time": "2020-01-02T21:44:29.598687",
     "exception": false,
     "start_time": "2020-01-02T21:44:29.431371",
     "status": "completed"
    },
    "tags": []
   },
   "outputs": [],
   "source": [
    "_file_pattern = 'spredixcan_igwas_gtexmashrv8_(?P<code>[^/]+)__PM__(?P<tissue>.+)\\.csv$'\n",
    "all_extra_phenotypes = [PhenoResults(p, _file_pattern) for p in all_extra_results_dirs]\n",
    "all_extra_phenotypes_plain_names = pd.Index([p.pheno_info.get_plain_name() for p in all_extra_phenotypes])\n",
    "\n",
    "display(len(all_extra_phenotypes))\n",
    "assert len(all_extra_phenotypes) == conf.SMULTIXCAN_EXPECTED_PHENOTYPES['GTEX_GWAS']"
   ]
  },
  {
   "cell_type": "markdown",
   "metadata": {
    "papermill": {
     "duration": 0.03985,
     "end_time": "2020-01-02T21:44:29.681682",
     "exception": false,
     "start_time": "2020-01-02T21:44:29.641832",
     "status": "completed"
    },
    "tags": []
   },
   "source": [
    "# S-PrediXcan: direction of effect"
   ]
  },
  {
   "cell_type": "markdown",
   "metadata": {
    "papermill": {
     "duration": 0.040281,
     "end_time": "2020-01-02T21:44:29.768819",
     "exception": false,
     "start_time": "2020-01-02T21:44:29.728538",
     "status": "completed"
    },
    "tags": []
   },
   "source": [
    "## Effect direction: most significant"
   ]
  },
  {
   "cell_type": "markdown",
   "metadata": {
    "papermill": {
     "duration": 0.04268,
     "end_time": "2020-01-02T21:44:29.851731",
     "exception": false,
     "start_time": "2020-01-02T21:44:29.809051",
     "status": "completed"
    },
    "tags": []
   },
   "source": [
    "### Compute results"
   ]
  },
  {
   "cell_type": "code",
   "execution_count": null,
   "metadata": {
    "papermill": {
     "duration": 0.030892,
     "end_time": "2020-08-19T18:56:15.298933",
     "exception": false,
     "start_time": "2020-08-19T18:56:15.268041",
     "status": "completed"
    },
    "tags": []
   },
   "outputs": [],
   "source": [
    "from tqdm import tqdm"
   ]
  },
  {
   "cell_type": "code",
   "execution_count": null,
   "metadata": {
    "papermill": {
     "duration": 0.074635,
     "end_time": "2020-01-02T21:44:29.966077",
     "exception": false,
     "start_time": "2020-01-02T21:44:29.891442",
     "status": "completed"
    },
    "tags": []
   },
   "outputs": [],
   "source": [
    "def _get_combined_results(phenos):\n",
    "    return {\n",
    "        pheno.pheno_info.get_plain_name():\n",
    "            pheno.get_most_significant_effect_direction()\n",
    "        for pheno in phenos\n",
    "    }"
   ]
  },
  {
   "cell_type": "code",
   "execution_count": null,
   "metadata": {
    "papermill": {
     "duration": 0.070114,
     "end_time": "2020-01-02T21:44:30.076958",
     "exception": false,
     "start_time": "2020-01-02T21:44:30.006844",
     "status": "completed"
    },
    "tags": []
   },
   "outputs": [],
   "source": [
    "def _run_all(phenotype_chunks, n_jobs=conf.N_JOBS_HIGH):\n",
    "    all_results = {}\n",
    "    \n",
    "    with ProcessPoolExecutor(max_workers=n_jobs) as executor:\n",
    "        tasks = [executor.submit(_get_combined_results, chunk) for chunk in phenotype_chunks]\n",
    "        for future in tqdm(as_completed(tasks), total=len(tasks)):\n",
    "            res = future.result()\n",
    "            all_results.update(res)\n",
    "    \n",
    "    return all_results"
   ]
  },
  {
   "cell_type": "code",
   "execution_count": null,
   "metadata": {
    "papermill": {
     "duration": 0.069197,
     "end_time": "2020-01-02T21:44:30.196375",
     "exception": false,
     "start_time": "2020-01-02T21:44:30.127178",
     "status": "completed"
    },
    "tags": []
   },
   "outputs": [],
   "source": [
    "# phenotype_chunks = chunker(all_spredixcan_phenotypes[:10] + all_extra_phenotypes[:10], 4)\n",
    "phenotype_chunks = chunker(all_spredixcan_phenotypes + all_extra_phenotypes, 10)"
   ]
  },
  {
   "cell_type": "code",
   "execution_count": null,
   "metadata": {
    "papermill": {
     "duration": 10910.472436,
     "end_time": "2020-01-03T00:46:20.709315",
     "exception": false,
     "start_time": "2020-01-02T21:44:30.236879",
     "status": "completed"
    },
    "tags": []
   },
   "outputs": [],
   "source": [
    "all_results = _run_all(phenotype_chunks, n_jobs=conf.N_JOBS_HIGH)"
   ]
  },
  {
   "cell_type": "code",
   "execution_count": null,
   "metadata": {
    "papermill": {
     "duration": 0.093058,
     "end_time": "2020-01-03T00:46:20.841045",
     "exception": false,
     "start_time": "2020-01-03T00:46:20.747987",
     "status": "completed"
    },
    "tags": []
   },
   "outputs": [],
   "source": [
    "len(all_results)"
   ]
  },
  {
   "cell_type": "markdown",
   "metadata": {
    "papermill": {
     "duration": 0.031848,
     "end_time": "2020-01-03T00:46:20.908898",
     "exception": false,
     "start_time": "2020-01-03T00:46:20.877050",
     "status": "completed"
    },
    "tags": []
   },
   "source": [
    "### Create DataFrame"
   ]
  },
  {
   "cell_type": "code",
   "execution_count": null,
   "metadata": {
    "papermill": {
     "duration": 0.060047,
     "end_time": "2020-01-03T00:46:21.000048",
     "exception": false,
     "start_time": "2020-01-03T00:46:20.940001",
     "status": "completed"
    },
    "tags": []
   },
   "outputs": [],
   "source": [
    "_n_expected_phenos = np.sum(list(conf.SMULTIXCAN_EXPECTED_PHENOTYPES.values()))\n",
    "display(_n_expected_phenos)\n",
    "assert len(all_results) == _n_expected_phenos, len(all_results)"
   ]
  },
  {
   "cell_type": "code",
   "execution_count": null,
   "metadata": {
    "papermill": {
     "duration": 76.585408,
     "end_time": "2020-01-03T00:47:37.622730",
     "exception": false,
     "start_time": "2020-01-03T00:46:21.037322",
     "status": "completed"
    },
    "tags": []
   },
   "outputs": [],
   "source": [
    "# the category dtype is for efficiency in storage/loading\n",
    "spredixcan_genes_effect_directions = pd.DataFrame(all_results, dtype='category')\n",
    "spredixcan_genes_effect_directions.index.rename('gene_name', inplace=True)\n",
    "\n",
    "assert spredixcan_genes_effect_directions.index.is_unique\n",
    "\n",
    "display(spredixcan_genes_effect_directions.shape)\n",
    "display(spredixcan_genes_effect_directions.head())"
   ]
  },
  {
   "cell_type": "code",
   "execution_count": null,
   "metadata": {
    "papermill": {
     "duration": 0.083597,
     "end_time": "2020-01-03T00:47:37.759895",
     "exception": false,
     "start_time": "2020-01-03T00:47:37.676298",
     "status": "completed"
    },
    "tags": []
   },
   "outputs": [],
   "source": [
    "# Remove genes with no results\n",
    "#spredixcan_genes_effect_directions = spredixcan_genes_effect_directions.dropna(axis=0, how='all')"
   ]
  },
  {
   "cell_type": "code",
   "execution_count": null,
   "metadata": {
    "papermill": {
     "duration": 27.229152,
     "end_time": "2020-01-03T00:48:05.038366",
     "exception": false,
     "start_time": "2020-01-03T00:47:37.809214",
     "status": "completed"
    },
    "tags": []
   },
   "outputs": [],
   "source": [
    "# how many entries are nan\n",
    "spredixcan_genes_effect_directions.isna().sum().sum()"
   ]
  },
  {
   "cell_type": "code",
   "execution_count": null,
   "metadata": {
    "papermill": {
     "duration": 173.926149,
     "end_time": "2020-01-03T00:50:59.014760",
     "exception": false,
     "start_time": "2020-01-03T00:48:05.088611",
     "status": "completed"
    },
    "tags": []
   },
   "outputs": [],
   "source": [
    "pd.Series(spredixcan_genes_effect_directions.values.flatten()).dropna().astype(float).unique()"
   ]
  },
  {
   "cell_type": "code",
   "execution_count": null,
   "metadata": {
    "papermill": {
     "duration": 0.111127,
     "end_time": "2020-01-03T00:50:59.175286",
     "exception": false,
     "start_time": "2020-01-03T00:50:59.064159",
     "status": "completed"
    },
    "tags": []
   },
   "outputs": [],
   "source": [
    "display(f'Results shape: {spredixcan_genes_effect_directions.shape}')\n",
    "\n",
    "assert spredixcan_genes_effect_directions.shape == (22518, _n_expected_phenos), spredixcan_genes_effect_directions.shape"
   ]
  },
  {
   "cell_type": "markdown",
   "metadata": {
    "papermill": {
     "duration": 0.043297,
     "end_time": "2020-01-03T00:50:59.263854",
     "exception": false,
     "start_time": "2020-01-03T00:50:59.220557",
     "status": "completed"
    },
    "tags": []
   },
   "source": [
    "## Testing"
   ]
  },
  {
   "cell_type": "code",
   "execution_count": null,
   "metadata": {
    "papermill": {
     "duration": 0.118625,
     "end_time": "2020-01-03T00:50:59.426199",
     "exception": false,
     "start_time": "2020-01-03T00:50:59.307574",
     "status": "completed"
    },
    "tags": []
   },
   "outputs": [],
   "source": [
    "spredixcan_genes_effect_directions.loc[\n",
    "    [\n",
    "        'ENSG00000000419',\n",
    "        'ENSG00000000457',\n",
    "        'ENSG00000000460',\n",
    "        'ENSG00000186090', # zero\n",
    "        'ENSG00000007202', # zero\n",
    "    ],\n",
    "    [\n",
    "        'N02-Diagnoses_main_ICD10_N02_Recurrent_and_persistent_haematuria',\n",
    "        'Astle_et_al_2016_Reticulocyte_count',\n",
    "        'PGC_ADHD_EUR_2017',\n",
    "        'IMMUNOBASE_Systemic_lupus_erythematosus_hg19',\n",
    "    ]\n",
    "]"
   ]
  },
  {
   "cell_type": "code",
   "execution_count": null,
   "metadata": {
    "papermill": {
     "duration": 0.087198,
     "end_time": "2020-01-03T00:50:59.560453",
     "exception": false,
     "start_time": "2020-01-03T00:50:59.473255",
     "status": "completed"
    },
    "tags": []
   },
   "outputs": [],
   "source": [
    "assert spredixcan_genes_effect_directions.loc['ENSG00000000419', 'N02-Diagnoses_main_ICD10_N02_Recurrent_and_persistent_haematuria'] == -1.0\n",
    "assert spredixcan_genes_effect_directions.loc['ENSG00000000457', 'N02-Diagnoses_main_ICD10_N02_Recurrent_and_persistent_haematuria'] == 1.0\n",
    "assert spredixcan_genes_effect_directions.loc['ENSG00000000460', 'N02-Diagnoses_main_ICD10_N02_Recurrent_and_persistent_haematuria'] == -1.0\n",
    "\n",
    "assert spredixcan_genes_effect_directions.loc['ENSG00000000419', 'Astle_et_al_2016_Reticulocyte_count'] == -1.0\n",
    "assert spredixcan_genes_effect_directions.loc['ENSG00000000457', 'Astle_et_al_2016_Reticulocyte_count'] == 1.0\n",
    "assert spredixcan_genes_effect_directions.loc['ENSG00000000460', 'Astle_et_al_2016_Reticulocyte_count'] == 1.0\n",
    "\n",
    "assert spredixcan_genes_effect_directions.loc['ENSG00000186090', 'PGC_ADHD_EUR_2017'] == 0.0\n",
    "assert spredixcan_genes_effect_directions.loc['ENSG00000007202', 'PGC_ADHD_EUR_2017'] == 0.0\n",
    "\n",
    "assert spredixcan_genes_effect_directions.loc['ENSG00000007202', 'IMMUNOBASE_Systemic_lupus_erythematosus_hg19'] == 0.0"
   ]
  },
  {
   "cell_type": "markdown",
   "metadata": {
    "papermill": {
     "duration": 0.044279,
     "end_time": "2020-01-03T00:50:59.655713",
     "exception": false,
     "start_time": "2020-01-03T00:50:59.611434",
     "status": "completed"
    },
    "tags": []
   },
   "source": [
    "The code below was used to write the assert above; see for each gene if first and last (min and max) correspond to sign above"
   ]
  },
  {
   "cell_type": "code",
   "execution_count": null,
   "metadata": {
    "papermill": {
     "duration": 0.08372,
     "end_time": "2020-01-03T00:50:59.791921",
     "exception": false,
     "start_time": "2020-01-03T00:50:59.708201",
     "status": "completed"
    },
    "tags": []
   },
   "outputs": [],
   "source": [
    "rapid_gwas_dir = conf.SPREDIXCAN_RESULTS_DIR['RapidGWASProject']\n",
    "gtex_gwas_dir = conf.SPREDIXCAN_RESULTS_DIR['GTEX_GWAS']"
   ]
  },
  {
   "cell_type": "code",
   "execution_count": null,
   "metadata": {
    "papermill": {
     "duration": 4.753209,
     "end_time": "2020-01-03T00:51:04.595928",
     "exception": false,
     "start_time": "2020-01-03T00:50:59.842719",
     "status": "completed"
    },
    "tags": []
   },
   "outputs": [],
   "source": [
    "%%bash -s \"$rapid_gwas_dir\"\n",
    "cd $1/N02\n",
    "parallel 'cat {} | cut -f1-3 -d, | column -t -s, | grep \"ENSG00000000419\"' ::: *.csv | sort -k3 -g | sed -e 1b -e '$!d'\n",
    "echo \"\"\n",
    "parallel 'cat {} | cut -f1-3 -d, | column -t -s, | grep \"ENSG00000000457\"' ::: *.csv | sort -k3 -g | sed -e 1b -e '$!d'\n",
    "echo \"\"\n",
    "parallel 'cat {} | cut -f1-3 -d, | column -t -s, | grep \"ENSG00000000460\"' ::: *.csv | sort -k3 -g | sed -e 1b -e '$!d'"
   ]
  },
  {
   "cell_type": "code",
   "execution_count": null,
   "metadata": {
    "papermill": {
     "duration": 3.705184,
     "end_time": "2020-01-03T00:51:08.365549",
     "exception": false,
     "start_time": "2020-01-03T00:51:04.660365",
     "status": "completed"
    },
    "tags": []
   },
   "outputs": [],
   "source": [
    "%%bash -s \"$gtex_gwas_dir\"\n",
    "cd $1/Astle_et_al_2016_Reticulocyte_count\n",
    "parallel 'cat {} | cut -f1-3 -d, | column -t -s, | grep \"ENSG00000000419\"' ::: *.csv | sort -k3 -g | sed -e 1b -e '$!d'\n",
    "echo \"\"\n",
    "parallel 'cat {} | cut -f1-3 -d, | column -t -s, | grep \"ENSG00000000457\"' ::: *.csv | sort -k3 -g | sed -e 1b -e '$!d'\n",
    "echo \"\"\n",
    "parallel 'cat {} | cut -f1-3 -d, | column -t -s, | grep \"ENSG00000000460\"' ::: *.csv | sort -k3 -g | sed -e 1b -e '$!d'"
   ]
  },
  {
   "cell_type": "code",
   "execution_count": null,
   "metadata": {
    "papermill": {
     "duration": 2.133489,
     "end_time": "2020-01-03T00:51:10.547165",
     "exception": false,
     "start_time": "2020-01-03T00:51:08.413676",
     "status": "completed"
    },
    "tags": []
   },
   "outputs": [],
   "source": [
    "%%bash -s \"$gtex_gwas_dir\"\n",
    "cd $1/PGC_ADHD_EUR_2017\n",
    "parallel 'cat {} | cut -f1-3 -d, | column -t -s, | grep \"ENSG00000186090\"' ::: *.csv | sort -k3 -g | sed -e 1b -e '$!d'\n",
    "echo \"\"\n",
    "parallel 'cat {} | cut -f1-3 -d, | column -t -s, | grep \"ENSG00000007202\"' ::: *.csv | sort -k3 -g | sed -e 1b -e '$!d'"
   ]
  },
  {
   "cell_type": "code",
   "execution_count": null,
   "metadata": {
    "papermill": {
     "duration": 2.720029,
     "end_time": "2020-01-03T00:51:13.316149",
     "exception": false,
     "start_time": "2020-01-03T00:51:10.596120",
     "status": "completed"
    },
    "tags": []
   },
   "outputs": [],
   "source": [
    "%%bash -s \"$gtex_gwas_dir\"\n",
    "cd $1/IMMUNOBASE_Systemic_lupus_erythematosus_hg19\n",
    "parallel 'cat {} | cut -f1-3 -d, | column -t -s, | grep \"ENSG00000007202\"' ::: *.csv | sort -k3 -g | sed -e 1b -e '$!d'"
   ]
  },
  {
   "cell_type": "markdown",
   "metadata": {
    "papermill": {
     "duration": 0.046107,
     "end_time": "2020-01-03T00:51:13.418552",
     "exception": false,
     "start_time": "2020-01-03T00:51:13.372445",
     "status": "completed"
    },
    "tags": []
   },
   "source": [
    "### Save"
   ]
  },
  {
   "cell_type": "code",
   "execution_count": null,
   "metadata": {
    "papermill": {
     "duration": 0.08432,
     "end_time": "2020-01-03T00:51:13.549478",
     "exception": false,
     "start_time": "2020-01-03T00:51:13.465158",
     "status": "completed"
    },
    "tags": []
   },
   "outputs": [],
   "source": [
    "spredixcan_genes_effect_directions.shape"
   ]
  },
  {
   "cell_type": "code",
   "execution_count": null,
   "metadata": {
    "papermill": {
     "duration": 0.478563,
     "end_time": "2020-01-03T00:51:14.075235",
     "exception": false,
     "start_time": "2020-01-03T00:51:13.596672",
     "status": "completed"
    },
    "tags": []
   },
   "outputs": [],
   "source": [
    "spredixcan_genes_effect_directions.head()"
   ]
  },
  {
   "cell_type": "code",
   "execution_count": null,
   "metadata": {
    "papermill": {
     "duration": 0.100622,
     "end_time": "2020-01-03T00:51:14.229524",
     "exception": false,
     "start_time": "2020-01-03T00:51:14.128902",
     "status": "completed"
    },
    "tags": []
   },
   "outputs": [],
   "source": [
    "# Save\n",
    "spredixcan_genes_effect_directions_filename = os.path.join(conf.GENE_ASSOC_DIR, f'spredixcan-mashr-effect_direction-most_signif.pkl.xz')\n",
    "display(spredixcan_genes_effect_directions_filename)"
   ]
  },
  {
   "cell_type": "code",
   "execution_count": null,
   "metadata": {
    "papermill": {
     "duration": 171.306567,
     "end_time": "2020-01-03T00:54:05.588684",
     "exception": false,
     "start_time": "2020-01-03T00:51:14.282117",
     "status": "completed"
    },
    "tags": []
   },
   "outputs": [],
   "source": [
    "spredixcan_genes_effect_directions.to_pickle(spredixcan_genes_effect_directions_filename)"
   ]
  },
  {
   "cell_type": "markdown",
   "metadata": {
    "papermill": {
     "duration": 0.057708,
     "end_time": "2020-01-03T00:54:05.708195",
     "exception": false,
     "start_time": "2020-01-03T00:54:05.650487",
     "status": "completed"
    },
    "tags": []
   },
   "source": [
    "### Save in HDF5 format for webapp"
   ]
  },
  {
   "cell_type": "code",
   "execution_count": null,
   "metadata": {
    "papermill": {
     "duration": 3.917735,
     "end_time": "2020-01-03T00:54:09.675216",
     "exception": false,
     "start_time": "2020-01-03T00:54:05.757481",
     "status": "completed"
    },
    "tags": []
   },
   "outputs": [],
   "source": [
    "spredixcan_genes_effect_directions = pd.read_pickle(spredixcan_genes_effect_directions_filename)"
   ]
  },
  {
   "cell_type": "code",
   "execution_count": null,
   "metadata": {
    "papermill": {
     "duration": 0.101412,
     "end_time": "2020-01-03T00:54:09.833854",
     "exception": false,
     "start_time": "2020-01-03T00:54:09.732442",
     "status": "completed"
    },
    "tags": []
   },
   "outputs": [],
   "source": [
    "spredixcan_genes_effect_directions.shape"
   ]
  },
  {
   "cell_type": "code",
   "execution_count": null,
   "metadata": {
    "papermill": {
     "duration": 0.080605,
     "end_time": "2020-01-03T00:54:09.964003",
     "exception": false,
     "start_time": "2020-01-03T00:54:09.883398",
     "status": "completed"
    },
    "tags": []
   },
   "outputs": [],
   "source": [
    "from utils import simplify_string_for_hdf5"
   ]
  },
  {
   "cell_type": "code",
   "execution_count": null,
   "metadata": {},
   "outputs": [],
   "source": [
    "os.makedirs(conf.GENE_ASSOC_DIR, exist_ok=True)"
   ]
  },
  {
   "cell_type": "code",
   "execution_count": null,
   "metadata": {
    "papermill": {
     "duration": 0.088709,
     "end_time": "2020-01-03T00:54:10.106155",
     "exception": false,
     "start_time": "2020-01-03T00:54:10.017446",
     "status": "completed"
    },
    "tags": []
   },
   "outputs": [],
   "source": [
    "OUTPUT_HDF5_FILE = os.path.join(conf.GENE_ASSOC_DIR, 'spredixcan-mashr-effect_direction-most_signif.h5')\n",
    "display(OUTPUT_HDF5_FILE)"
   ]
  },
  {
   "cell_type": "code",
   "execution_count": null,
   "metadata": {
    "papermill": {
     "duration": 102.065514,
     "end_time": "2020-01-03T00:55:52.231774",
     "exception": false,
     "start_time": "2020-01-03T00:54:10.166260",
     "status": "completed"
    },
    "tags": []
   },
   "outputs": [],
   "source": [
    "with pd.HDFStore(OUTPUT_HDF5_FILE, mode='w', complevel=1) as store:\n",
    "    for col in spredixcan_genes_effect_directions.columns:\n",
    "        #print('.', flush=True, end='')\n",
    "        clean_col = simplify_string_for_hdf5(col)\n",
    "        store[clean_col] = spredixcan_genes_effect_directions[col].astype(float)"
   ]
  },
  {
   "cell_type": "code",
   "execution_count": null,
   "metadata": {
    "papermill": {
     "duration": 8.780494,
     "end_time": "2020-01-03T00:56:01.068906",
     "exception": false,
     "start_time": "2020-01-03T00:55:52.288412",
     "status": "completed"
    },
    "tags": []
   },
   "outputs": [],
   "source": [
    "# testing\n",
    "with pd.HDFStore(OUTPUT_HDF5_FILE, mode='r') as store:\n",
    "    store_keys = list(store.keys())\n",
    "    assert len(store_keys) == spredixcan_genes_effect_directions.shape[1]\n",
    "    display(store_keys[:5])\n",
    "    \n",
    "    clean_col = simplify_string_for_hdf5('N02-Diagnoses_main_ICD10_N02_Recurrent_and_persistent_haematuria')\n",
    "    data = store[clean_col]\n",
    "    assert data.shape == (22518,), data.shape\n",
    "    assert data.loc['ENSG00000000419'] == -1.0\n",
    "    assert data.loc['ENSG00000000457'] == 1.0\n",
    "    assert data.loc['ENSG00000000460'] == -1.0\n",
    "    \n",
    "    clean_col = simplify_string_for_hdf5('Astle_et_al_2016_Reticulocyte_count')\n",
    "    data = store[clean_col]\n",
    "    assert data.shape == (22518,), data.shape\n",
    "    assert data.loc['ENSG00000000419'] == -1.0\n",
    "    assert data.loc['ENSG00000000457'] == 1.0\n",
    "    assert data.loc['ENSG00000000460'] == 1.0\n",
    "    \n",
    "    clean_col = simplify_string_for_hdf5('PGC_ADHD_EUR_2017')\n",
    "    data = store[clean_col]\n",
    "    assert data.shape == (22518,), data.shape\n",
    "    assert data.loc['ENSG00000186090'] == 0.0\n",
    "    assert data.loc['ENSG00000007202'] == 0.0\n",
    "    \n",
    "    clean_col = simplify_string_for_hdf5('IMMUNOBASE_Systemic_lupus_erythematosus_hg19')\n",
    "    data = store[clean_col]\n",
    "    assert data.shape == (22518,), data.shape\n",
    "    assert data.loc['ENSG00000007202'] == 0.0"
   ]
  },
  {
   "cell_type": "code",
   "execution_count": null,
   "metadata": {
    "papermill": {
     "duration": 0.052323,
     "end_time": "2020-01-03T00:56:01.177584",
     "exception": false,
     "start_time": "2020-01-03T00:56:01.125261",
     "status": "completed"
    },
    "tags": []
   },
   "outputs": [],
   "source": []
  }
 ],
 "metadata": {
  "kernelspec": {
   "display_name": "Python 3",
   "language": "python",
   "name": "python3"
  },
  "language_info": {
   "codemirror_mode": {
    "name": "ipython",
    "version": 3
   },
   "file_extension": ".py",
   "mimetype": "text/x-python",
   "name": "python",
   "nbconvert_exporter": "python",
   "pygments_lexer": "ipython3",
   "version": "3.7.6"
  },
  "papermill": {
   "duration": 11563.622387,
   "end_time": "2020-01-03T00:56:03.665545",
   "environment_variables": {},
   "exception": null,
   "input_path": "100_postprocessing/05_spredixcan_direction_effect_most_signif.ipynb",
   "output_path": "100_postprocessing/05_spredixcan_direction_effect_most_signif.run.ipynb",
   "parameters": {},
   "start_time": "2020-01-02T21:43:20.043158",
   "version": "1.2.1"
  }
 },
 "nbformat": 4,
 "nbformat_minor": 4
}
